{
 "cells": [
  {
   "cell_type": "markdown",
   "metadata": {},
   "source": [
    "# Setup Functions"
   ]
  },
  {
   "cell_type": "markdown",
   "metadata": {},
   "source": [
    "ProbDist(dict):\n",
    "input a dictionary of the data group by genre.\n",
    "output fraction of each genre"
   ]
  },
  {
   "cell_type": "code",
   "execution_count": 2,
   "metadata": {},
   "outputs": [],
   "source": [
    "class ProbDist(dict): \n",
    "    def __init__(self, mapping=(), **kwargs):\n",
    "        self.update(mapping, **kwargs)\n",
    "        # Make probabilities sum to 1.0; assert no negative probabilities\n",
    "        total = sum(self.values()) # total number of all the inputs\n",
    "        for outcome in self:\n",
    "            self[outcome] = self[outcome] / total \n",
    "            assert self[outcome] >= 0"
   ]
  },
  {
   "cell_type": "markdown",
   "metadata": {},
   "source": [
    "\\**kwargs: input key-value dictionary with any length"
   ]
  },
  {
   "cell_type": "markdown",
   "metadata": {},
   "source": [
    "## such_that(predicate, space): \n",
    "return all the results fulfill the predicate function"
   ]
  },
  {
   "cell_type": "code",
   "execution_count": 3,
   "metadata": {},
   "outputs": [],
   "source": [
    "def such_that(predicate, space):  \n",
    "    if isinstance(space, ProbDist):\n",
    "        return ProbDist({o:space[o] for o in space if predicate(o)}) # if there are different genre, output them\n",
    "    else:\n",
    "        return {o for o in space if predicate(o)}"
   ]
  },
  {
   "cell_type": "markdown",
   "metadata": {},
   "source": [
    "## p(event, space):\n",
    "\n",
    "get fraction of the event to total space"
   ]
  },
  {
   "cell_type": "code",
   "execution_count": 4,
   "metadata": {},
   "outputs": [],
   "source": [
    "def p(event, space): \n",
    "    # branch on the type of the first argument\n",
    "    if is_predicate(event):\n",
    "        # transform the mapping (untangible) 'event' into the collection (tangible) 'event'\n",
    "        event = such_that(event, space)\n",
    "        \n",
    "    if isinstance(space, ProbDist):  # if space can be used by ProbDist\n",
    "        # if space is a dictionary of distinct probabilities, where each item does not count as the same amount\n",
    "        return sum(space[o] for o in space if o in event)\n",
    "    else:\n",
    "        # space is not a dictionary but a collection, let's fall back to our original division\n",
    "        return Fraction(len(event & space), len(space))\n",
    "\n",
    "    \n",
    "is_predicate = callable"
   ]
  },
  {
   "cell_type": "markdown",
   "metadata": {},
   "source": [
    "## joint(A, B, sep=''):\n",
    "\n",
    "probability of two event happen together"
   ]
  },
  {
   "cell_type": "code",
   "execution_count": 5,
   "metadata": {},
   "outputs": [],
   "source": [
    "def joint(A, B, sep=''):\n",
    "    \"\"\"The joint distribution of two independent probability distributions. \n",
    "    Result is all entries of the form {a+sep+b: P(a)*P(b)}\"\"\"\n",
    "    return ProbDist({a + sep + b: A[a] * B[b] \n",
    "                        for a in A \n",
    "                        for b in B})"
   ]
  },
  {
   "cell_type": "markdown",
   "metadata": {},
   "source": [
    "# F1\n",
    "\n",
    "[This](https://www.formula1.com/en/racing/2023.html) is the schedule for F1 races for 2023, and Qatar is oming up in 2 weeks! The great Max Verstappen is once again leading all drivers.\n",
    "\n",
    "<br />\n",
    "\n",
    "\n",
    "**Goal 1** (20 points) [Max Verstappen](https://www.formula1.com/en/drivers/max-verstappen.html) rocks! But is he going to win it all again in 2023? The first two F1 races coming up: After **Qatar** it's the **US Grand Prix** in Texas! The 2023 driver standings are given [here](https://www.formula1.com/en/drivers.html). Given these standings (*do not use team standings given on the same Web site, use driver standings*), what is the Probability Distribution for each F1 driver to win the Qatari Grand Prix? What is the Probability Distribution for each F1 driver to win *both* the Qatari and the US Grand Prix? What is the probability for Red Bull to win both races? What is the probability for Red Bull to win at least one race? Note that Red Bull and all other racing teams have two drivers per race."
   ]
  },
  {
   "cell_type": "markdown",
   "metadata": {},
   "source": [
    "## Q1"
   ]
  },
  {
   "cell_type": "markdown",
   "metadata": {},
   "source": [
    "## a) what is the Probability Distribution for each F1 driver to win the Qatari Grand Prix?"
   ]
  },
  {
   "cell_type": "markdown",
   "metadata": {},
   "source": [
    "I cannnot find the information of the Qatari Grand Prix in 2022 and 2023, so we use 2021. (https://www.formula1.com/en/results.html/2021/races/1105/qatar/race-result.html)"
   ]
  },
  {
   "cell_type": "code",
   "execution_count": 6,
   "metadata": {},
   "outputs": [
    {
     "data": {
      "text/plain": [
       "{'Verstappen': 0.19335604770017037,\n",
       " 'Leclerc': 0.131175468483816,\n",
       " 'Perez': 0.12989778534923338,\n",
       " 'Russell': 0.11712095400340715,\n",
       " 'Sainz': 0.10477001703577513,\n",
       " 'Hamilton': 0.10221465076660988,\n",
       " 'Norris': 0.051959114139693355,\n",
       " 'Ocon': 0.039182282793867124,\n",
       " 'Alonso': 0.034497444633730834,\n",
       " 'Bottas': 0.020868824531516183,\n",
       " 'Ricciardo': 0.01575809199318569,\n",
       " 'Vettel': 0.01575809199318569,\n",
       " 'Magnussen': 0.010647359454855196,\n",
       " 'Gasly': 0.009795570698466781,\n",
       " 'Stroll': 0.007666098807495741,\n",
       " 'Schumacher': 0.005110732538330494,\n",
       " 'Tsunoda': 0.005110732538330494,\n",
       " 'Zhou': 0.002555366269165247,\n",
       " 'Albon': 0.0017035775127768314,\n",
       " 'Latifi': 0.0008517887563884157}"
      ]
     },
     "execution_count": 6,
     "metadata": {},
     "output_type": "execute_result"
    }
   ],
   "source": [
    "#Using 2022 F1 driver's PTS to predict \n",
    "winner = ProbDist(Verstappen=454, Leclerc=308, Perez=305, Russell=275, Sainz=246, Hamilton=240, \n",
    "                  Norris=122, Ocon=92, Alonso=81, Bottas=49, Ricciardo=37, Vettel=37, \n",
    "                  Magnussen=25, Gasly=23, Stroll=18, Schumacher=12, \n",
    "                  Tsunoda=12, Zhou=6, Albon=4, Latifi=2)\n",
    "winner"
   ]
  },
  {
   "cell_type": "markdown",
   "metadata": {},
   "source": [
    "## b) What is the Probability Distribution for each F1 driver to win both the Qatari and the US Grand Prix?"
   ]
  },
  {
   "cell_type": "code",
   "execution_count": 7,
   "metadata": {
    "scrolled": false
   },
   "outputs": [
    {
     "data": {
      "text/plain": [
       "{'Verstappen,Verstappen': 0.03738656118223056,\n",
       " 'Verstappen,Leclerc': 0.025363570141248924,\n",
       " 'Verstappen,Perez': 0.025116522380132865,\n",
       " 'Verstappen,Russell': 0.022646044768972255,\n",
       " 'Verstappen,Sainz': 0.020257916411517002,\n",
       " 'Verstappen,Hamilton': 0.01976382088928488,\n",
       " 'Verstappen,Norris': 0.010046608952053147,\n",
       " 'Verstappen,Ocon': 0.007576131340892537,\n",
       " 'Verstappen,Alonso': 0.006670289550133646,\n",
       " 'Verstappen,Bottas': 0.004035113431562329,\n",
       " 'Verstappen,Ricciardo': 0.003046922387098085,\n",
       " 'Verstappen,Vettel': 0.003046922387098085,\n",
       " 'Verstappen,Magnussen': 0.0020587313426338417,\n",
       " 'Verstappen,Gasly': 0.0018940328352231343,\n",
       " 'Verstappen,Stroll': 0.0014822865666963658,\n",
       " 'Verstappen,Schumacher': 0.000988191044464244,\n",
       " 'Verstappen,Tsunoda': 0.000988191044464244,\n",
       " 'Verstappen,Zhou': 0.000494095522232122,\n",
       " 'Verstappen,Albon': 0.00032939701482141465,\n",
       " 'Verstappen,Latifi': 0.00016469850741070732,\n",
       " 'Leclerc,Verstappen': 0.025363570141248924,\n",
       " 'Leclerc,Leclerc': 0.01720700353194861,\n",
       " 'Leclerc,Perez': 0.017039402848195863,\n",
       " 'Leclerc,Russell': 0.0153633960106684,\n",
       " 'Leclerc,Sainz': 0.013743256067725187,\n",
       " 'Leclerc,Hamilton': 0.013408054700219696,\n",
       " 'Leclerc,Norris': 0.006815761139278345,\n",
       " 'Leclerc,Ocon': 0.005139754301750884,\n",
       " 'Leclerc,Alonso': 0.004525218461324147,\n",
       " 'Leclerc,Bottas': 0.0027374778346281876,\n",
       " 'Leclerc,Ricciardo': 0.002067075099617203,\n",
       " 'Leclerc,Vettel': 0.002067075099617203,\n",
       " 'Leclerc,Magnussen': 0.0013966723646062183,\n",
       " 'Leclerc,Gasly': 0.001284938575437721,\n",
       " 'Leclerc,Stroll': 0.0010056041025164773,\n",
       " 'Leclerc,Schumacher': 0.0006704027350109848,\n",
       " 'Leclerc,Tsunoda': 0.0006704027350109848,\n",
       " 'Leclerc,Zhou': 0.0003352013675054924,\n",
       " 'Leclerc,Albon': 0.00022346757833699492,\n",
       " 'Leclerc,Latifi': 0.00011173378916849746,\n",
       " 'Perez,Verstappen': 0.025116522380132865,\n",
       " 'Perez,Leclerc': 0.017039402848195863,\n",
       " 'Perez,Perez': 0.016873434638635512,\n",
       " 'Perez,Russell': 0.01521375254303202,\n",
       " 'Perez,Sainz': 0.013609393183948644,\n",
       " 'Perez,Hamilton': 0.013277456764827944,\n",
       " 'Perez,Norris': 0.006749373855454205,\n",
       " 'Perez,Ocon': 0.005089691759850713,\n",
       " 'Perez,Alonso': 0.004481141658129431,\n",
       " 'Perez,Bottas': 0.0027108140894857055,\n",
       " 'Perez,Ricciardo': 0.0020469412512443084,\n",
       " 'Perez,Vettel': 0.0020469412512443084,\n",
       " 'Perez,Magnussen': 0.0013830684130029108,\n",
       " 'Perez,Gasly': 0.0012724229399626783,\n",
       " 'Perez,Stroll': 0.0009958092573620959,\n",
       " 'Perez,Schumacher': 0.0006638728382413972,\n",
       " 'Perez,Tsunoda': 0.0006638728382413972,\n",
       " 'Perez,Zhou': 0.0003319364191206986,\n",
       " 'Perez,Albon': 0.00022129094608046575,\n",
       " 'Perez,Latifi': 0.00011064547304023287,\n",
       " 'Russell,Verstappen': 0.022646044768972255,\n",
       " 'Russell,Leclerc': 0.0153633960106684,\n",
       " 'Russell,Perez': 0.01521375254303202,\n",
       " 'Russell,Russell': 0.013717317866668214,\n",
       " 'Russell,Sainz': 0.012270764346183204,\n",
       " 'Russell,Hamilton': 0.011971477410910442,\n",
       " 'Russell,Norris': 0.0060855010172128085,\n",
       " 'Russell,Ocon': 0.004589066340849004,\n",
       " 'Russell,Alonso': 0.004040373626182274,\n",
       " 'Russell,Bottas': 0.002444176638060882,\n",
       " 'Russell,Ricciardo': 0.0018456027675153597,\n",
       " 'Russell,Vettel': 0.0018456027675153597,\n",
       " 'Russell,Magnussen': 0.0012470288969698379,\n",
       " 'Russell,Gasly': 0.001147266585212251,\n",
       " 'Russell,Stroll': 0.0008978608058182832,\n",
       " 'Russell,Schumacher': 0.0005985738705455221,\n",
       " 'Russell,Tsunoda': 0.0005985738705455221,\n",
       " 'Russell,Zhou': 0.00029928693527276105,\n",
       " 'Russell,Albon': 0.00019952462351517406,\n",
       " 'Russell,Latifi': 9.976231175758703e-05,\n",
       " 'Sainz,Verstappen': 0.020257916411517002,\n",
       " 'Sainz,Leclerc': 0.013743256067725187,\n",
       " 'Sainz,Perez': 0.013609393183948644,\n",
       " 'Sainz,Russell': 0.012270764346183204,\n",
       " 'Sainz,Sainz': 0.010976756469676613,\n",
       " 'Sainz,Hamilton': 0.010709030702123524,\n",
       " 'Sainz,Norris': 0.005443757273579458,\n",
       " 'Sainz,Ocon': 0.004105128435814018,\n",
       " 'Sainz,Alonso': 0.0036142978619666893,\n",
       " 'Sainz,Bottas': 0.002186427101683553,\n",
       " 'Sainz,Ricciardo': 0.0016509755665773764,\n",
       " 'Sainz,Vettel': 0.0016509755665773764,\n",
       " 'Sainz,Magnussen': 0.0011155240314712003,\n",
       " 'Sainz,Gasly': 0.0010262821089535045,\n",
       " 'Sainz,Stroll': 0.0008031773026592643,\n",
       " 'Sainz,Schumacher': 0.0005354515351061762,\n",
       " 'Sainz,Tsunoda': 0.0005354515351061762,\n",
       " 'Sainz,Zhou': 0.0002677257675530881,\n",
       " 'Sainz,Albon': 0.00017848384503539206,\n",
       " 'Sainz,Latifi': 8.924192251769603e-05,\n",
       " 'Hamilton,Verstappen': 0.01976382088928488,\n",
       " 'Hamilton,Leclerc': 0.013408054700219696,\n",
       " 'Hamilton,Perez': 0.013277456764827944,\n",
       " 'Hamilton,Russell': 0.011971477410910442,\n",
       " 'Hamilton,Sainz': 0.010709030702123524,\n",
       " 'Hamilton,Hamilton': 0.010447834831340022,\n",
       " 'Hamilton,Norris': 0.005310982705931179,\n",
       " 'Hamilton,Ocon': 0.004005003352013676,\n",
       " 'Hamilton,Alonso': 0.0035261442555772574,\n",
       " 'Hamilton,Bottas': 0.002133099611398588,\n",
       " 'Hamilton,Ricciardo': 0.0016107078698315866,\n",
       " 'Hamilton,Vettel': 0.0016107078698315866,\n",
       " 'Hamilton,Magnussen': 0.0010883161282645858,\n",
       " 'Hamilton,Gasly': 0.001001250838003419,\n",
       " 'Hamilton,Stroll': 0.0007835876123505017,\n",
       " 'Hamilton,Schumacher': 0.0005223917415670011,\n",
       " 'Hamilton,Tsunoda': 0.0005223917415670011,\n",
       " 'Hamilton,Zhou': 0.00026119587078350057,\n",
       " 'Hamilton,Albon': 0.00017413058052233372,\n",
       " 'Hamilton,Latifi': 8.706529026116686e-05,\n",
       " 'Norris,Verstappen': 0.010046608952053147,\n",
       " 'Norris,Leclerc': 0.006815761139278345,\n",
       " 'Norris,Perez': 0.006749373855454205,\n",
       " 'Norris,Russell': 0.0060855010172128085,\n",
       " 'Norris,Sainz': 0.005443757273579458,\n",
       " 'Norris,Hamilton': 0.005310982705931179,\n",
       " 'Norris,Norris': 0.0026997495421816823,\n",
       " 'Norris,Ocon': 0.0020358767039402852,\n",
       " 'Norris,Alonso': 0.0017924566632517727,\n",
       " 'Norris,Bottas': 0.0010843256357942824,\n",
       " 'Norris,Ricciardo': 0.0008187765004977232,\n",
       " 'Norris,Vettel': 0.0008187765004977232,\n",
       " 'Norris,Magnussen': 0.0005532273652011644,\n",
       " 'Norris,Gasly': 0.0005089691759850713,\n",
       " 'Norris,Stroll': 0.00039832370294483837,\n",
       " 'Norris,Schumacher': 0.0002655491352965589,\n",
       " 'Norris,Tsunoda': 0.0002655491352965589,\n",
       " 'Norris,Zhou': 0.00013277456764827946,\n",
       " 'Norris,Albon': 8.851637843218631e-05,\n",
       " 'Norris,Latifi': 4.4258189216093154e-05,\n",
       " 'Ocon,Verstappen': 0.007576131340892537,\n",
       " 'Ocon,Leclerc': 0.005139754301750884,\n",
       " 'Ocon,Perez': 0.005089691759850713,\n",
       " 'Ocon,Russell': 0.004589066340849004,\n",
       " 'Ocon,Sainz': 0.004105128435814018,\n",
       " 'Ocon,Hamilton': 0.004005003352013676,\n",
       " 'Ocon,Norris': 0.0020358767039402852,\n",
       " 'Ocon,Ocon': 0.0015352512849385758,\n",
       " 'Ocon,Alonso': 0.0013516886313046155,\n",
       " 'Ocon,Bottas': 0.0008176881843694587,\n",
       " 'Ocon,Ricciardo': 0.000617438016768775,\n",
       " 'Ocon,Vettel': 0.000617438016768775,\n",
       " 'Ocon,Magnussen': 0.0004171878491680912,\n",
       " 'Ocon,Gasly': 0.00038381282123464396,\n",
       " 'Ocon,Stroll': 0.0003003752514010257,\n",
       " 'Ocon,Schumacher': 0.00020025016760068378,\n",
       " 'Ocon,Tsunoda': 0.00020025016760068378,\n",
       " 'Ocon,Zhou': 0.00010012508380034189,\n",
       " 'Ocon,Albon': 6.67500558668946e-05,\n",
       " 'Ocon,Latifi': 3.33750279334473e-05,\n",
       " 'Alonso,Verstappen': 0.006670289550133646,\n",
       " 'Alonso,Leclerc': 0.004525218461324147,\n",
       " 'Alonso,Perez': 0.004481141658129431,\n",
       " 'Alonso,Russell': 0.004040373626182274,\n",
       " 'Alonso,Sainz': 0.0036142978619666893,\n",
       " 'Alonso,Hamilton': 0.0035261442555772574,\n",
       " 'Alonso,Norris': 0.0017924566632517727,\n",
       " 'Alonso,Ocon': 0.0013516886313046155,\n",
       " 'Alonso,Alonso': 0.0011900736862573244,\n",
       " 'Alonso,Bottas': 0.0007199211188470235,\n",
       " 'Alonso,Ricciardo': 0.0005436139060681606,\n",
       " 'Alonso,Vettel': 0.0005436139060681606,\n",
       " 'Alonso,Magnussen': 0.0003673066932892977,\n",
       " 'Alonso,Gasly': 0.0003379221578261539,\n",
       " 'Alonso,Stroll': 0.00026446081916829434,\n",
       " 'Alonso,Schumacher': 0.00017630721277886287,\n",
       " 'Alonso,Tsunoda': 0.00017630721277886287,\n",
       " 'Alonso,Zhou': 8.815360638943143e-05,\n",
       " 'Alonso,Albon': 5.876907092628763e-05,\n",
       " 'Alonso,Latifi': 2.9384535463143814e-05,\n",
       " 'Bottas,Verstappen': 0.004035113431562329,\n",
       " 'Bottas,Leclerc': 0.0027374778346281876,\n",
       " 'Bottas,Perez': 0.0027108140894857055,\n",
       " 'Bottas,Russell': 0.002444176638060882,\n",
       " 'Bottas,Sainz': 0.002186427101683553,\n",
       " 'Bottas,Hamilton': 0.002133099611398588,\n",
       " 'Bottas,Norris': 0.0010843256357942824,\n",
       " 'Bottas,Ocon': 0.0008176881843694587,\n",
       " 'Bottas,Alonso': 0.0007199211188470235,\n",
       " 'Bottas,Bottas': 0.0004355078373272117,\n",
       " 'Bottas,Ricciardo': 0.0003288528567572823,\n",
       " 'Bottas,Vettel': 0.0003288528567572823,\n",
       " 'Bottas,Magnussen': 0.0002221978761873529,\n",
       " 'Bottas,Gasly': 0.00020442204609236468,\n",
       " 'Bottas,Stroll': 0.0001599824708548941,\n",
       " 'Bottas,Schumacher': 0.00010665498056992938,\n",
       " 'Bottas,Tsunoda': 0.00010665498056992938,\n",
       " 'Bottas,Zhou': 5.332749028496469e-05,\n",
       " 'Bottas,Albon': 3.555166018997647e-05,\n",
       " 'Bottas,Latifi': 1.7775830094988235e-05,\n",
       " 'Ricciardo,Verstappen': 0.003046922387098085,\n",
       " 'Ricciardo,Leclerc': 0.002067075099617203,\n",
       " 'Ricciardo,Perez': 0.0020469412512443084,\n",
       " 'Ricciardo,Russell': 0.0018456027675153597,\n",
       " 'Ricciardo,Sainz': 0.0016509755665773764,\n",
       " 'Ricciardo,Hamilton': 0.0016107078698315866,\n",
       " 'Ricciardo,Norris': 0.0008187765004977232,\n",
       " 'Ricciardo,Ocon': 0.000617438016768775,\n",
       " 'Ricciardo,Alonso': 0.0005436139060681606,\n",
       " 'Ricciardo,Bottas': 0.0003288528567572823,\n",
       " 'Ricciardo,Ricciardo': 0.00024831746326570294,\n",
       " 'Ricciardo,Vettel': 0.00024831746326570294,\n",
       " 'Ricciardo,Magnussen': 0.00016778206977412363,\n",
       " 'Ricciardo,Gasly': 0.00015435950419219374,\n",
       " 'Ricciardo,Stroll': 0.000120803090237369,\n",
       " 'Ricciardo,Schumacher': 8.053539349157934e-05,\n",
       " 'Ricciardo,Tsunoda': 8.053539349157934e-05,\n",
       " 'Ricciardo,Zhou': 4.026769674578967e-05,\n",
       " 'Ricciardo,Albon': 2.684513116385978e-05,\n",
       " 'Ricciardo,Latifi': 1.342256558192989e-05,\n",
       " 'Vettel,Verstappen': 0.003046922387098085,\n",
       " 'Vettel,Leclerc': 0.002067075099617203,\n",
       " 'Vettel,Perez': 0.0020469412512443084,\n",
       " 'Vettel,Russell': 0.0018456027675153597,\n",
       " 'Vettel,Sainz': 0.0016509755665773764,\n",
       " 'Vettel,Hamilton': 0.0016107078698315866,\n",
       " 'Vettel,Norris': 0.0008187765004977232,\n",
       " 'Vettel,Ocon': 0.000617438016768775,\n",
       " 'Vettel,Alonso': 0.0005436139060681606,\n",
       " 'Vettel,Bottas': 0.0003288528567572823,\n",
       " 'Vettel,Ricciardo': 0.00024831746326570294,\n",
       " 'Vettel,Vettel': 0.00024831746326570294,\n",
       " 'Vettel,Magnussen': 0.00016778206977412363,\n",
       " 'Vettel,Gasly': 0.00015435950419219374,\n",
       " 'Vettel,Stroll': 0.000120803090237369,\n",
       " 'Vettel,Schumacher': 8.053539349157934e-05,\n",
       " 'Vettel,Tsunoda': 8.053539349157934e-05,\n",
       " 'Vettel,Zhou': 4.026769674578967e-05,\n",
       " 'Vettel,Albon': 2.684513116385978e-05,\n",
       " 'Vettel,Latifi': 1.342256558192989e-05,\n",
       " 'Magnussen,Verstappen': 0.0020587313426338417,\n",
       " 'Magnussen,Leclerc': 0.0013966723646062183,\n",
       " 'Magnussen,Perez': 0.0013830684130029108,\n",
       " 'Magnussen,Russell': 0.0012470288969698379,\n",
       " 'Magnussen,Sainz': 0.0011155240314712003,\n",
       " 'Magnussen,Hamilton': 0.0010883161282645858,\n",
       " 'Magnussen,Norris': 0.0005532273652011644,\n",
       " 'Magnussen,Ocon': 0.0004171878491680912,\n",
       " 'Magnussen,Alonso': 0.0003673066932892977,\n",
       " 'Magnussen,Bottas': 0.0002221978761873529,\n",
       " 'Magnussen,Ricciardo': 0.00016778206977412363,\n",
       " 'Magnussen,Vettel': 0.00016778206977412363,\n",
       " 'Magnussen,Magnussen': 0.00011336626336089434,\n",
       " 'Magnussen,Gasly': 0.0001042969622920228,\n",
       " 'Magnussen,Stroll': 8.162370961984393e-05,\n",
       " 'Magnussen,Schumacher': 5.4415806413229284e-05,\n",
       " 'Magnussen,Tsunoda': 5.4415806413229284e-05,\n",
       " 'Magnussen,Zhou': 2.7207903206614642e-05,\n",
       " 'Magnussen,Albon': 1.8138602137743097e-05,\n",
       " 'Magnussen,Latifi': 9.069301068871548e-06,\n",
       " 'Gasly,Verstappen': 0.0018940328352231343,\n",
       " 'Gasly,Leclerc': 0.001284938575437721,\n",
       " 'Gasly,Perez': 0.0012724229399626783,\n",
       " 'Gasly,Russell': 0.001147266585212251,\n",
       " 'Gasly,Sainz': 0.0010262821089535045,\n",
       " 'Gasly,Hamilton': 0.001001250838003419,\n",
       " 'Gasly,Norris': 0.0005089691759850713,\n",
       " 'Gasly,Ocon': 0.00038381282123464396,\n",
       " 'Gasly,Alonso': 0.0003379221578261539,\n",
       " 'Gasly,Bottas': 0.00020442204609236468,\n",
       " 'Gasly,Ricciardo': 0.00015435950419219374,\n",
       " 'Gasly,Vettel': 0.00015435950419219374,\n",
       " 'Gasly,Magnussen': 0.0001042969622920228,\n",
       " 'Gasly,Gasly': 9.595320530866099e-05,\n",
       " 'Gasly,Stroll': 7.509381285025643e-05,\n",
       " 'Gasly,Schumacher': 5.0062541900170945e-05,\n",
       " 'Gasly,Tsunoda': 5.0062541900170945e-05,\n",
       " 'Gasly,Zhou': 2.5031270950085473e-05,\n",
       " 'Gasly,Albon': 1.668751396672365e-05,\n",
       " 'Gasly,Latifi': 8.343756983361825e-06,\n",
       " 'Stroll,Verstappen': 0.0014822865666963658,\n",
       " 'Stroll,Leclerc': 0.0010056041025164773,\n",
       " 'Stroll,Perez': 0.0009958092573620959,\n",
       " 'Stroll,Russell': 0.0008978608058182832,\n",
       " 'Stroll,Sainz': 0.0008031773026592643,\n",
       " 'Stroll,Hamilton': 0.0007835876123505017,\n",
       " 'Stroll,Norris': 0.00039832370294483837,\n",
       " 'Stroll,Ocon': 0.0003003752514010257,\n",
       " 'Stroll,Alonso': 0.00026446081916829434,\n",
       " 'Stroll,Bottas': 0.0001599824708548941,\n",
       " 'Stroll,Ricciardo': 0.000120803090237369,\n",
       " 'Stroll,Vettel': 0.000120803090237369,\n",
       " 'Stroll,Magnussen': 8.162370961984393e-05,\n",
       " 'Stroll,Gasly': 7.509381285025643e-05,\n",
       " 'Stroll,Stroll': 5.876907092628763e-05,\n",
       " 'Stroll,Schumacher': 3.9179380617525086e-05,\n",
       " 'Stroll,Tsunoda': 3.9179380617525086e-05,\n",
       " 'Stroll,Zhou': 1.9589690308762543e-05,\n",
       " 'Stroll,Albon': 1.3059793539175029e-05,\n",
       " 'Stroll,Latifi': 6.529896769587514e-06,\n",
       " 'Schumacher,Verstappen': 0.000988191044464244,\n",
       " 'Schumacher,Leclerc': 0.0006704027350109848,\n",
       " 'Schumacher,Perez': 0.0006638728382413972,\n",
       " 'Schumacher,Russell': 0.0005985738705455221,\n",
       " 'Schumacher,Sainz': 0.0005354515351061762,\n",
       " 'Schumacher,Hamilton': 0.0005223917415670011,\n",
       " 'Schumacher,Norris': 0.0002655491352965589,\n",
       " 'Schumacher,Ocon': 0.00020025016760068378,\n",
       " 'Schumacher,Alonso': 0.00017630721277886287,\n",
       " 'Schumacher,Bottas': 0.00010665498056992938,\n",
       " 'Schumacher,Ricciardo': 8.053539349157934e-05,\n",
       " 'Schumacher,Vettel': 8.053539349157934e-05,\n",
       " 'Schumacher,Magnussen': 5.4415806413229284e-05,\n",
       " 'Schumacher,Gasly': 5.0062541900170945e-05,\n",
       " 'Schumacher,Stroll': 3.9179380617525086e-05,\n",
       " 'Schumacher,Schumacher': 2.6119587078350054e-05,\n",
       " 'Schumacher,Tsunoda': 2.6119587078350054e-05,\n",
       " 'Schumacher,Zhou': 1.3059793539175027e-05,\n",
       " 'Schumacher,Albon': 8.706529026116687e-06,\n",
       " 'Schumacher,Latifi': 4.3532645130583434e-06,\n",
       " 'Tsunoda,Verstappen': 0.000988191044464244,\n",
       " 'Tsunoda,Leclerc': 0.0006704027350109848,\n",
       " 'Tsunoda,Perez': 0.0006638728382413972,\n",
       " 'Tsunoda,Russell': 0.0005985738705455221,\n",
       " 'Tsunoda,Sainz': 0.0005354515351061762,\n",
       " 'Tsunoda,Hamilton': 0.0005223917415670011,\n",
       " 'Tsunoda,Norris': 0.0002655491352965589,\n",
       " 'Tsunoda,Ocon': 0.00020025016760068378,\n",
       " 'Tsunoda,Alonso': 0.00017630721277886287,\n",
       " 'Tsunoda,Bottas': 0.00010665498056992938,\n",
       " 'Tsunoda,Ricciardo': 8.053539349157934e-05,\n",
       " 'Tsunoda,Vettel': 8.053539349157934e-05,\n",
       " 'Tsunoda,Magnussen': 5.4415806413229284e-05,\n",
       " 'Tsunoda,Gasly': 5.0062541900170945e-05,\n",
       " 'Tsunoda,Stroll': 3.9179380617525086e-05,\n",
       " 'Tsunoda,Schumacher': 2.6119587078350054e-05,\n",
       " 'Tsunoda,Tsunoda': 2.6119587078350054e-05,\n",
       " 'Tsunoda,Zhou': 1.3059793539175027e-05,\n",
       " 'Tsunoda,Albon': 8.706529026116687e-06,\n",
       " 'Tsunoda,Latifi': 4.3532645130583434e-06,\n",
       " 'Zhou,Verstappen': 0.000494095522232122,\n",
       " 'Zhou,Leclerc': 0.0003352013675054924,\n",
       " 'Zhou,Perez': 0.0003319364191206986,\n",
       " 'Zhou,Russell': 0.00029928693527276105,\n",
       " 'Zhou,Sainz': 0.0002677257675530881,\n",
       " 'Zhou,Hamilton': 0.00026119587078350057,\n",
       " 'Zhou,Norris': 0.00013277456764827946,\n",
       " 'Zhou,Ocon': 0.00010012508380034189,\n",
       " 'Zhou,Alonso': 8.815360638943143e-05,\n",
       " 'Zhou,Bottas': 5.332749028496469e-05,\n",
       " 'Zhou,Ricciardo': 4.026769674578967e-05,\n",
       " 'Zhou,Vettel': 4.026769674578967e-05,\n",
       " 'Zhou,Magnussen': 2.7207903206614642e-05,\n",
       " 'Zhou,Gasly': 2.5031270950085473e-05,\n",
       " 'Zhou,Stroll': 1.9589690308762543e-05,\n",
       " 'Zhou,Schumacher': 1.3059793539175027e-05,\n",
       " 'Zhou,Tsunoda': 1.3059793539175027e-05,\n",
       " 'Zhou,Zhou': 6.5298967695875135e-06,\n",
       " 'Zhou,Albon': 4.3532645130583434e-06,\n",
       " 'Zhou,Latifi': 2.1766322565291717e-06,\n",
       " 'Albon,Verstappen': 0.00032939701482141465,\n",
       " 'Albon,Leclerc': 0.00022346757833699492,\n",
       " 'Albon,Perez': 0.00022129094608046575,\n",
       " 'Albon,Russell': 0.00019952462351517406,\n",
       " 'Albon,Sainz': 0.00017848384503539206,\n",
       " 'Albon,Hamilton': 0.00017413058052233372,\n",
       " 'Albon,Norris': 8.851637843218631e-05,\n",
       " 'Albon,Ocon': 6.67500558668946e-05,\n",
       " 'Albon,Alonso': 5.876907092628763e-05,\n",
       " 'Albon,Bottas': 3.555166018997647e-05,\n",
       " 'Albon,Ricciardo': 2.684513116385978e-05,\n",
       " 'Albon,Vettel': 2.684513116385978e-05,\n",
       " 'Albon,Magnussen': 1.8138602137743097e-05,\n",
       " 'Albon,Gasly': 1.668751396672365e-05,\n",
       " 'Albon,Stroll': 1.3059793539175029e-05,\n",
       " 'Albon,Schumacher': 8.706529026116687e-06,\n",
       " 'Albon,Tsunoda': 8.706529026116687e-06,\n",
       " 'Albon,Zhou': 4.3532645130583434e-06,\n",
       " 'Albon,Albon': 2.9021763420388956e-06,\n",
       " 'Albon,Latifi': 1.4510881710194478e-06,\n",
       " 'Latifi,Verstappen': 0.00016469850741070732,\n",
       " 'Latifi,Leclerc': 0.00011173378916849746,\n",
       " 'Latifi,Perez': 0.00011064547304023287,\n",
       " 'Latifi,Russell': 9.976231175758703e-05,\n",
       " 'Latifi,Sainz': 8.924192251769603e-05,\n",
       " 'Latifi,Hamilton': 8.706529026116686e-05,\n",
       " 'Latifi,Norris': 4.4258189216093154e-05,\n",
       " 'Latifi,Ocon': 3.33750279334473e-05,\n",
       " 'Latifi,Alonso': 2.9384535463143814e-05,\n",
       " 'Latifi,Bottas': 1.7775830094988235e-05,\n",
       " 'Latifi,Ricciardo': 1.342256558192989e-05,\n",
       " 'Latifi,Vettel': 1.342256558192989e-05,\n",
       " 'Latifi,Magnussen': 9.069301068871548e-06,\n",
       " 'Latifi,Gasly': 8.343756983361825e-06,\n",
       " 'Latifi,Stroll': 6.529896769587514e-06,\n",
       " 'Latifi,Schumacher': 4.3532645130583434e-06,\n",
       " 'Latifi,Tsunoda': 4.3532645130583434e-06,\n",
       " 'Latifi,Zhou': 2.1766322565291717e-06,\n",
       " 'Latifi,Albon': 1.4510881710194478e-06,\n",
       " 'Latifi,Latifi': 7.255440855097239e-07}"
      ]
     },
     "execution_count": 7,
     "metadata": {},
     "output_type": "execute_result"
    }
   ],
   "source": [
    "twoRace = joint(winner,winner,\",\")  \n",
    "twoRace   # distribution of first winner and second winner"
   ]
  },
  {
   "cell_type": "markdown",
   "metadata": {},
   "source": [
    "when first name = second name, it means the driver's possibility"
   ]
  },
  {
   "cell_type": "markdown",
   "metadata": {},
   "source": [
    "## c) What is the probability for Red Bull to win both races?"
   ]
  },
  {
   "cell_type": "code",
   "execution_count": 8,
   "metadata": {
    "scrolled": true
   },
   "outputs": [
    {
     "data": {
      "text/plain": [
       "{'RED_BULL_RACING_RBPT': 0.358457997698504,\n",
       " 'MERCEDES': 0.17548906789413118,\n",
       " 'FERRARI': 0.16398158803222093,\n",
       " 'ASTON_MARTIN_ARAMCO_MERCEDES': 0.12715765247410818,\n",
       " 'MCLAREN_MERCEDES': 0.09896432681242807,\n",
       " 'ALPINE_RENAULT': 0.04833141542002301,\n",
       " 'WILLIAMS_MERCEDES': 0.012082853855005753,\n",
       " 'HAAS_FERRARI': 0.006904487917146145,\n",
       " 'ALFA_ROMEO_FERRARI': 0.005753739930955121,\n",
       " 'ALPHATAURI_HONDA_RBPT': 0.0028768699654775605}"
      ]
     },
     "execution_count": 8,
     "metadata": {},
     "output_type": "execute_result"
    }
   ],
   "source": [
    "#2023 Teams data\n",
    "win2023 = ProbDist(RED_BULL_RACING_RBPT=623,MERCEDES=305,FERRARI=285,ASTON_MARTIN_ARAMCO_MERCEDES=221,\n",
    "                  MCLAREN_MERCEDES=172,ALPINE_RENAULT=84, WILLIAMS_MERCEDES=21,HAAS_FERRARI=12,ALFA_ROMEO_FERRARI=10,ALPHATAURI_HONDA_RBPT=5)\n",
    "win2023  # get distribution of 2023 winner"
   ]
  },
  {
   "cell_type": "code",
   "execution_count": 9,
   "metadata": {},
   "outputs": [
    {
     "data": {
      "text/plain": [
       "{'RED_BULL_RACING_RBPT,RED_BULL_RACING_RBPT': 0.12849213611402077,\n",
       " 'RED_BULL_RACING_RBPT,MERCEDES': 0.06290545989530712,\n",
       " 'RED_BULL_RACING_RBPT,FERRARI': 0.05878051170545091,\n",
       " 'RED_BULL_RACING_RBPT,ASTON_MARTIN_ARAMCO_MERCEDES': 0.04558067749791105,\n",
       " 'RED_BULL_RACING_RBPT,MCLAREN_MERCEDES': 0.03547455443276335,\n",
       " 'RED_BULL_RACING_RBPT,ALPINE_RENAULT': 0.017324782397396057,\n",
       " 'RED_BULL_RACING_RBPT,WILLIAMS_MERCEDES': 0.004331195599349014,\n",
       " 'RED_BULL_RACING_RBPT,HAAS_FERRARI': 0.002474968913913722,\n",
       " 'RED_BULL_RACING_RBPT,ALFA_ROMEO_FERRARI': 0.002062474094928102,\n",
       " 'RED_BULL_RACING_RBPT,ALPHATAURI_HONDA_RBPT': 0.001031237047464051,\n",
       " 'MERCEDES,RED_BULL_RACING_RBPT': 0.06290545989530712,\n",
       " 'MERCEDES,MERCEDES': 0.030796412950350995,\n",
       " 'MERCEDES,FERRARI': 0.02877697603557388,\n",
       " 'MERCEDES,ASTON_MARTIN_ARAMCO_MERCEDES': 0.022314777908287117,\n",
       " 'MERCEDES,MCLAREN_MERCEDES': 0.017367157467083186,\n",
       " 'MERCEDES,ALPINE_RENAULT': 0.008481635042063881,\n",
       " 'MERCEDES,WILLIAMS_MERCEDES': 0.0021204087605159704,\n",
       " 'MERCEDES,HAAS_FERRARI': 0.0012116621488662686,\n",
       " 'MERCEDES,ALFA_ROMEO_FERRARI': 0.0010097184573885573,\n",
       " 'MERCEDES,ALPHATAURI_HONDA_RBPT': 0.0005048592286942787,\n",
       " 'FERRARI,RED_BULL_RACING_RBPT': 0.05878051170545091,\n",
       " 'FERRARI,MERCEDES': 0.02877697603557388,\n",
       " 'FERRARI,FERRARI': 0.026889961213569034,\n",
       " 'FERRARI,ASTON_MARTIN_ARAMCO_MERCEDES': 0.020851513783153534,\n",
       " 'FERRARI,MCLAREN_MERCEDES': 0.016228327469241664,\n",
       " 'FERRARI,ALPINE_RENAULT': 0.007925462252420348,\n",
       " 'FERRARI,WILLIAMS_MERCEDES': 0.001981365563105087,\n",
       " 'FERRARI,HAAS_FERRARI': 0.0011322088932029066,\n",
       " 'FERRARI,ALFA_ROMEO_FERRARI': 0.0009435074110024223,\n",
       " 'FERRARI,ALPHATAURI_HONDA_RBPT': 0.00047175370550121116,\n",
       " 'ASTON_MARTIN_ARAMCO_MERCEDES,RED_BULL_RACING_RBPT': 0.04558067749791105,\n",
       " 'ASTON_MARTIN_ARAMCO_MERCEDES,MERCEDES': 0.022314777908287117,\n",
       " 'ASTON_MARTIN_ARAMCO_MERCEDES,FERRARI': 0.020851513783153534,\n",
       " 'ASTON_MARTIN_ARAMCO_MERCEDES,ASTON_MARTIN_ARAMCO_MERCEDES': 0.016169068582726077,\n",
       " 'ASTON_MARTIN_ARAMCO_MERCEDES,MCLAREN_MERCEDES': 0.012584071476148798,\n",
       " 'ASTON_MARTIN_ARAMCO_MERCEDES,ALPINE_RENAULT': 0.006145709325561041,\n",
       " 'ASTON_MARTIN_ARAMCO_MERCEDES,WILLIAMS_MERCEDES': 0.0015364273313902602,\n",
       " 'ASTON_MARTIN_ARAMCO_MERCEDES,HAAS_FERRARI': 0.0008779584750801488,\n",
       " 'ASTON_MARTIN_ARAMCO_MERCEDES,ALFA_ROMEO_FERRARI': 0.0007316320625667907,\n",
       " 'ASTON_MARTIN_ARAMCO_MERCEDES,ALPHATAURI_HONDA_RBPT': 0.00036581603128339534,\n",
       " 'MCLAREN_MERCEDES,RED_BULL_RACING_RBPT': 0.03547455443276335,\n",
       " 'MCLAREN_MERCEDES,MERCEDES': 0.017367157467083186,\n",
       " 'MCLAREN_MERCEDES,FERRARI': 0.016228327469241664,\n",
       " 'MCLAREN_MERCEDES,ASTON_MARTIN_ARAMCO_MERCEDES': 0.012584071476148798,\n",
       " 'MCLAREN_MERCEDES,MCLAREN_MERCEDES': 0.009793937981437073,\n",
       " 'MCLAREN_MERCEDES,ALPINE_RENAULT': 0.004783085990934385,\n",
       " 'MCLAREN_MERCEDES,WILLIAMS_MERCEDES': 0.0011957714977335963,\n",
       " 'MCLAREN_MERCEDES,HAAS_FERRARI': 0.0006832979987049121,\n",
       " 'MCLAREN_MERCEDES,ALFA_ROMEO_FERRARI': 0.0005694149989207602,\n",
       " 'MCLAREN_MERCEDES,ALPHATAURI_HONDA_RBPT': 0.0002847074994603801,\n",
       " 'ALPINE_RENAULT,RED_BULL_RACING_RBPT': 0.017324782397396057,\n",
       " 'ALPINE_RENAULT,MERCEDES': 0.008481635042063881,\n",
       " 'ALPINE_RENAULT,FERRARI': 0.007925462252420348,\n",
       " 'ALPINE_RENAULT,ASTON_MARTIN_ARAMCO_MERCEDES': 0.006145709325561041,\n",
       " 'ALPINE_RENAULT,MCLAREN_MERCEDES': 0.004783085990934385,\n",
       " 'ALPINE_RENAULT,ALPINE_RENAULT': 0.0023359257165028392,\n",
       " 'ALPINE_RENAULT,WILLIAMS_MERCEDES': 0.0005839814291257098,\n",
       " 'ALPINE_RENAULT,HAAS_FERRARI': 0.00033370367378611986,\n",
       " 'ALPINE_RENAULT,ALFA_ROMEO_FERRARI': 0.00027808639482176657,\n",
       " 'ALPINE_RENAULT,ALPHATAURI_HONDA_RBPT': 0.00013904319741088328,\n",
       " 'WILLIAMS_MERCEDES,RED_BULL_RACING_RBPT': 0.004331195599349014,\n",
       " 'WILLIAMS_MERCEDES,MERCEDES': 0.0021204087605159704,\n",
       " 'WILLIAMS_MERCEDES,FERRARI': 0.001981365563105087,\n",
       " 'WILLIAMS_MERCEDES,ASTON_MARTIN_ARAMCO_MERCEDES': 0.0015364273313902602,\n",
       " 'WILLIAMS_MERCEDES,MCLAREN_MERCEDES': 0.0011957714977335963,\n",
       " 'WILLIAMS_MERCEDES,ALPINE_RENAULT': 0.0005839814291257098,\n",
       " 'WILLIAMS_MERCEDES,WILLIAMS_MERCEDES': 0.00014599535728142745,\n",
       " 'WILLIAMS_MERCEDES,HAAS_FERRARI': 8.342591844652997e-05,\n",
       " 'WILLIAMS_MERCEDES,ALFA_ROMEO_FERRARI': 6.952159870544164e-05,\n",
       " 'WILLIAMS_MERCEDES,ALPHATAURI_HONDA_RBPT': 3.476079935272082e-05,\n",
       " 'HAAS_FERRARI,RED_BULL_RACING_RBPT': 0.002474968913913722,\n",
       " 'HAAS_FERRARI,MERCEDES': 0.0012116621488662686,\n",
       " 'HAAS_FERRARI,FERRARI': 0.0011322088932029066,\n",
       " 'HAAS_FERRARI,ASTON_MARTIN_ARAMCO_MERCEDES': 0.0008779584750801488,\n",
       " 'HAAS_FERRARI,MCLAREN_MERCEDES': 0.0006832979987049121,\n",
       " 'HAAS_FERRARI,ALPINE_RENAULT': 0.00033370367378611986,\n",
       " 'HAAS_FERRARI,WILLIAMS_MERCEDES': 8.342591844652997e-05,\n",
       " 'HAAS_FERRARI,HAAS_FERRARI': 4.767195339801712e-05,\n",
       " 'HAAS_FERRARI,ALFA_ROMEO_FERRARI': 3.9726627831680937e-05,\n",
       " 'HAAS_FERRARI,ALPHATAURI_HONDA_RBPT': 1.9863313915840468e-05,\n",
       " 'ALFA_ROMEO_FERRARI,RED_BULL_RACING_RBPT': 0.002062474094928102,\n",
       " 'ALFA_ROMEO_FERRARI,MERCEDES': 0.0010097184573885573,\n",
       " 'ALFA_ROMEO_FERRARI,FERRARI': 0.0009435074110024223,\n",
       " 'ALFA_ROMEO_FERRARI,ASTON_MARTIN_ARAMCO_MERCEDES': 0.0007316320625667907,\n",
       " 'ALFA_ROMEO_FERRARI,MCLAREN_MERCEDES': 0.0005694149989207602,\n",
       " 'ALFA_ROMEO_FERRARI,ALPINE_RENAULT': 0.00027808639482176657,\n",
       " 'ALFA_ROMEO_FERRARI,WILLIAMS_MERCEDES': 6.952159870544164e-05,\n",
       " 'ALFA_ROMEO_FERRARI,HAAS_FERRARI': 3.9726627831680937e-05,\n",
       " 'ALFA_ROMEO_FERRARI,ALFA_ROMEO_FERRARI': 3.310552319306745e-05,\n",
       " 'ALFA_ROMEO_FERRARI,ALPHATAURI_HONDA_RBPT': 1.6552761596533726e-05,\n",
       " 'ALPHATAURI_HONDA_RBPT,RED_BULL_RACING_RBPT': 0.001031237047464051,\n",
       " 'ALPHATAURI_HONDA_RBPT,MERCEDES': 0.0005048592286942787,\n",
       " 'ALPHATAURI_HONDA_RBPT,FERRARI': 0.00047175370550121116,\n",
       " 'ALPHATAURI_HONDA_RBPT,ASTON_MARTIN_ARAMCO_MERCEDES': 0.00036581603128339534,\n",
       " 'ALPHATAURI_HONDA_RBPT,MCLAREN_MERCEDES': 0.0002847074994603801,\n",
       " 'ALPHATAURI_HONDA_RBPT,ALPINE_RENAULT': 0.00013904319741088328,\n",
       " 'ALPHATAURI_HONDA_RBPT,WILLIAMS_MERCEDES': 3.476079935272082e-05,\n",
       " 'ALPHATAURI_HONDA_RBPT,HAAS_FERRARI': 1.9863313915840468e-05,\n",
       " 'ALPHATAURI_HONDA_RBPT,ALFA_ROMEO_FERRARI': 1.6552761596533726e-05,\n",
       " 'ALPHATAURI_HONDA_RBPT,ALPHATAURI_HONDA_RBPT': 8.276380798266863e-06}"
      ]
     },
     "execution_count": 9,
     "metadata": {},
     "output_type": "execute_result"
    }
   ],
   "source": [
    "twoRace2 = joint(win2023,win2023,\",\")  # distribution of first winner and second winner\n",
    "twoRace2"
   ]
  },
  {
   "cell_type": "markdown",
   "metadata": {},
   "source": [
    "the 'RED_BULL_RACING_RBPT,RED_BULL_RACING_RBPT' data means the probability of Red Bull to win both races."
   ]
  },
  {
   "cell_type": "code",
   "execution_count": 10,
   "metadata": {},
   "outputs": [],
   "source": [
    "def RBwinTwice(outcome): return outcome == \"RED_BULL_RACING_RBPT,RED_BULL_RACING_RBPT\""
   ]
  },
  {
   "cell_type": "code",
   "execution_count": 11,
   "metadata": {},
   "outputs": [
    {
     "data": {
      "text/plain": [
       "0.12849213611402077"
      ]
     },
     "execution_count": 11,
     "metadata": {},
     "output_type": "execute_result"
    }
   ],
   "source": [
    "p(RBwinTwice,twoRace2)"
   ]
  },
  {
   "cell_type": "markdown",
   "metadata": {},
   "source": [
    "## d) What is the probability for Red Bull to win at least one race? "
   ]
  },
  {
   "cell_type": "code",
   "execution_count": 12,
   "metadata": {},
   "outputs": [],
   "source": [
    "def RedBull(outcome): return 'RED_BULL_RACING_RBPT' in outcome"
   ]
  },
  {
   "cell_type": "code",
   "execution_count": 13,
   "metadata": {},
   "outputs": [
    {
     "data": {
      "text/plain": [
       "0.5884238592829877"
      ]
     },
     "execution_count": 13,
     "metadata": {},
     "output_type": "execute_result"
    }
   ],
   "source": [
    "p(RedBull,twoRace2) # it gets the results that having at lease one Red Bull from the joint table"
   ]
  },
  {
   "cell_type": "markdown",
   "metadata": {},
   "source": [
    "## Q2: \n",
    "## If Red Bull wins the first race, what is the probability that Red Bull wins the next one? If Red Bull wins at least one of these two races, what is the probability Red Bull wins both races? How about Ferrari, Mercedes, and Alfa Romeo?"
   ]
  },
  {
   "cell_type": "code",
   "execution_count": 14,
   "metadata": {},
   "outputs": [],
   "source": [
    "# find where Red Bull win the first one\n",
    "def RBwinFirst(outcome): return outcome.startswith('RED_BULL_RACING_RBPT') "
   ]
  },
  {
   "cell_type": "code",
   "execution_count": 15,
   "metadata": {
    "scrolled": false
   },
   "outputs": [
    {
     "data": {
      "text/plain": [
       "{'RED_BULL_RACING_RBPT,RED_BULL_RACING_RBPT': 0.358457997698504,\n",
       " 'RED_BULL_RACING_RBPT,MERCEDES': 0.17548906789413118,\n",
       " 'RED_BULL_RACING_RBPT,FERRARI': 0.16398158803222093,\n",
       " 'RED_BULL_RACING_RBPT,ASTON_MARTIN_ARAMCO_MERCEDES': 0.12715765247410815,\n",
       " 'RED_BULL_RACING_RBPT,MCLAREN_MERCEDES': 0.09896432681242806,\n",
       " 'RED_BULL_RACING_RBPT,ALPINE_RENAULT': 0.04833141542002301,\n",
       " 'RED_BULL_RACING_RBPT,WILLIAMS_MERCEDES': 0.012082853855005753,\n",
       " 'RED_BULL_RACING_RBPT,HAAS_FERRARI': 0.006904487917146144,\n",
       " 'RED_BULL_RACING_RBPT,ALFA_ROMEO_FERRARI': 0.00575373993095512,\n",
       " 'RED_BULL_RACING_RBPT,ALPHATAURI_HONDA_RBPT': 0.00287686996547756}"
      ]
     },
     "execution_count": 15,
     "metadata": {},
     "output_type": "execute_result"
    }
   ],
   "source": [
    "such_that(RBwinFirst, twoRace2)  # this will show all the possible results that red bull win first race"
   ]
  },
  {
   "cell_type": "markdown",
   "metadata": {},
   "source": [
    "### Math Method"
   ]
  },
  {
   "cell_type": "markdown",
   "metadata": {},
   "source": [
    "The P(A | B) shows possibility that A happens based on B happen, P(AB) means the possibility A, B happen together.\n",
    "\n",
    "    P(A | B) = P(AB) / P(B)\n",
    "    \n",
    "When A and B are independent, P(AB) = P(A) * P(B).\n",
    "\n",
    "In this case, P(A) = \"Red Bull wins the second one\". P(B) = \"Red Bull wins the first race\".\n",
    "\n",
    "The two events are independent, and P(B) != 0, so actually we have 2 methods to get the answer: <br>\n",
    "To compute \"Red Bull win twice\" / \"Red Bull win first\" <br>\n",
    "or directly compute \"Red Bull win second\""
   ]
  },
  {
   "cell_type": "code",
   "execution_count": 16,
   "metadata": {
    "scrolled": true
   },
   "outputs": [
    {
     "data": {
      "text/plain": [
       "0.358457997698504"
      ]
     },
     "execution_count": 16,
     "metadata": {},
     "output_type": "execute_result"
    }
   ],
   "source": [
    "# Method 1: \"Red Bull win twice\" / \"Red Bull win first\"\n",
    "RBwinSecond = p(RBwinTwice,twoRace2) / p(RBwinFirst,twoRace2)\n",
    "RBwinSecond"
   ]
  },
  {
   "cell_type": "code",
   "execution_count": 17,
   "metadata": {},
   "outputs": [],
   "source": [
    "# Method 2: \"Red Bull win second\"\n",
    "def RBwinSecond(outcome): return outcome.split(\",\")[1] == 'RED_BULL_RACING_RBPT'"
   ]
  },
  {
   "cell_type": "code",
   "execution_count": 18,
   "metadata": {
    "scrolled": true
   },
   "outputs": [
    {
     "data": {
      "text/plain": [
       "0.35845799769850417"
      ]
     },
     "execution_count": 18,
     "metadata": {},
     "output_type": "execute_result"
    }
   ],
   "source": [
    "RBwinSecond2 = p(RBwinSecond,twoRace2)\n",
    "RBwinSecond2"
   ]
  },
  {
   "cell_type": "markdown",
   "metadata": {},
   "source": [
    "It's same! That's how independent events works."
   ]
  },
  {
   "cell_type": "markdown",
   "metadata": {},
   "source": [
    "### Code Method"
   ]
  },
  {
   "cell_type": "markdown",
   "metadata": {},
   "source": [
    "When checking conditional possibility, it actually means: to assume P(condition) = 1"
   ]
  },
  {
   "cell_type": "code",
   "execution_count": 19,
   "metadata": {
    "scrolled": true
   },
   "outputs": [
    {
     "data": {
      "text/plain": [
       "0.358457997698504"
      ]
     },
     "execution_count": 19,
     "metadata": {},
     "output_type": "execute_result"
    }
   ],
   "source": [
    "# There is another way to get the fraction of \"Red Bull win second\" / \"Red Bull win first\"\n",
    "\n",
    "# we can let our space to be all the case that Red Bull win the first one. \n",
    "# which means let P(\"Red Bull win first\") = 1.\n",
    "\n",
    "RBwinSecond3 = p(RBwinSecond,such_that(RBwinFirst,twoRace2))\n",
    "RBwinSecond3"
   ]
  },
  {
   "cell_type": "markdown",
   "metadata": {},
   "source": [
    "You could see the answer is still same"
   ]
  },
  {
   "cell_type": "markdown",
   "metadata": {},
   "source": [
    "## b) If Red Bull wins at least one of these two races, what is the probability Red Bull wins both races?"
   ]
  },
  {
   "cell_type": "code",
   "execution_count": 20,
   "metadata": {},
   "outputs": [
    {
     "data": {
      "text/plain": [
       "{'RED_BULL_RACING_RBPT,RED_BULL_RACING_RBPT': 0.21836663161584294,\n",
       " 'RED_BULL_RACING_RBPT,MERCEDES': 0.10690501226778827,\n",
       " 'RED_BULL_RACING_RBPT,FERRARI': 0.09989484752891689,\n",
       " 'RED_BULL_RACING_RBPT,ASTON_MARTIN_ARAMCO_MERCEDES': 0.07746232036452853,\n",
       " 'RED_BULL_RACING_RBPT,MCLAREN_MERCEDES': 0.0602874167542937,\n",
       " 'RED_BULL_RACING_RBPT,ALPINE_RENAULT': 0.029442691903259717,\n",
       " 'RED_BULL_RACING_RBPT,WILLIAMS_MERCEDES': 0.007360672975814929,\n",
       " 'RED_BULL_RACING_RBPT,HAAS_FERRARI': 0.004206098843322816,\n",
       " 'RED_BULL_RACING_RBPT,ALFA_ROMEO_FERRARI': 0.003505082369435681,\n",
       " 'RED_BULL_RACING_RBPT,ALPHATAURI_HONDA_RBPT': 0.0017525411847178405,\n",
       " 'MERCEDES,RED_BULL_RACING_RBPT': 0.10690501226778827,\n",
       " 'FERRARI,RED_BULL_RACING_RBPT': 0.09989484752891689,\n",
       " 'ASTON_MARTIN_ARAMCO_MERCEDES,RED_BULL_RACING_RBPT': 0.07746232036452853,\n",
       " 'MCLAREN_MERCEDES,RED_BULL_RACING_RBPT': 0.0602874167542937,\n",
       " 'ALPINE_RENAULT,RED_BULL_RACING_RBPT': 0.029442691903259717,\n",
       " 'WILLIAMS_MERCEDES,RED_BULL_RACING_RBPT': 0.007360672975814929,\n",
       " 'HAAS_FERRARI,RED_BULL_RACING_RBPT': 0.004206098843322816,\n",
       " 'ALFA_ROMEO_FERRARI,RED_BULL_RACING_RBPT': 0.003505082369435681,\n",
       " 'ALPHATAURI_HONDA_RBPT,RED_BULL_RACING_RBPT': 0.0017525411847178405}"
      ]
     },
     "execution_count": 20,
     "metadata": {},
     "output_type": "execute_result"
    }
   ],
   "source": [
    "such_that(RedBull,twoRace2) # get all the result that Red Bull win at least one "
   ]
  },
  {
   "cell_type": "code",
   "execution_count": 21,
   "metadata": {},
   "outputs": [
    {
     "data": {
      "text/plain": [
       "0.21836663161584294"
      ]
     },
     "execution_count": 21,
     "metadata": {},
     "output_type": "execute_result"
    }
   ],
   "source": [
    "# get possibility when assume P(\"Red Bull win at least one\") = 1\n",
    "RBwinBoth = p(RBwinTwice,such_that(RedBull,twoRace2)) \n",
    "RBwinBoth"
   ]
  },
  {
   "cell_type": "markdown",
   "metadata": {},
   "source": [
    "The P(AB) / P(B) works also:"
   ]
  },
  {
   "cell_type": "code",
   "execution_count": 22,
   "metadata": {},
   "outputs": [
    {
     "data": {
      "text/plain": [
       "0.21836663161584294"
      ]
     },
     "execution_count": 22,
     "metadata": {},
     "output_type": "execute_result"
    }
   ],
   "source": [
    "RBwinBoth2 = p(RBwinTwice, twoRace2) / p(RedBull,twoRace2) # Use math formula\n",
    "RBwinBoth2"
   ]
  },
  {
   "cell_type": "markdown",
   "metadata": {},
   "source": [
    "But directly calculate P(A) won't work"
   ]
  },
  {
   "cell_type": "code",
   "execution_count": 23,
   "metadata": {},
   "outputs": [
    {
     "data": {
      "text/plain": [
       "0.12849213611402077"
      ]
     },
     "execution_count": 23,
     "metadata": {},
     "output_type": "execute_result"
    }
   ],
   "source": [
    "RBwinBoth3 = p(RBwinTwice, twoRace2) # directly compute P(\"Red Bull win both\")\n",
    "RBwinBoth3"
   ]
  },
  {
   "cell_type": "markdown",
   "metadata": {},
   "source": [
    "We could see they are different"
   ]
  },
  {
   "cell_type": "markdown",
   "metadata": {},
   "source": [
    "## c) How about Ferrari, Mercedes, and Alfa Romeo?"
   ]
  },
  {
   "cell_type": "markdown",
   "metadata": {},
   "source": [
    "There is no Mercedes and Alfa Romeo in data so I assume they are 0"
   ]
  },
  {
   "cell_type": "code",
   "execution_count": 24,
   "metadata": {},
   "outputs": [
    {
     "data": {
      "text/plain": [
       "0.16398158803222096"
      ]
     },
     "execution_count": 24,
     "metadata": {},
     "output_type": "execute_result"
    }
   ],
   "source": [
    "def FwinSecond(outcome): return outcome.split(\",\")[1] == \"FERRARI\"\n",
    "\n",
    "FwinSecond = p(FwinSecond,twoRace2)  # P(B)!= 0 and independent, directly get possibility of win second\n",
    "FwinSecond"
   ]
  },
  {
   "cell_type": "code",
   "execution_count": 25,
   "metadata": {},
   "outputs": [
    {
     "data": {
      "text/plain": [
       "0.08348897041062495"
      ]
     },
     "execution_count": 25,
     "metadata": {},
     "output_type": "execute_result"
    }
   ],
   "source": [
    "def Ferrari(outcome): return \"FERRARI\" in outcome\n",
    "def FwinTwice(outcome): return outcome == \"FERRARI,FERRARI\"\n",
    "\n",
    "FwinBoth = p(FwinTwice,such_that(Ferrari,twoRace2)) # Possibility of win twice baesd on win one\n",
    "FwinBoth"
   ]
  },
  {
   "cell_type": "code",
   "execution_count": 26,
   "metadata": {},
   "outputs": [
    {
     "data": {
      "text/plain": [
       "0.17548906789413127"
      ]
     },
     "execution_count": 26,
     "metadata": {},
     "output_type": "execute_result"
    }
   ],
   "source": [
    "def MwinSecond(outcome): return outcome.split(\",\")[1] == \"MERCEDES\"\n",
    "\n",
    "MwinSecond = p(MwinSecond,twoRace2)  # P(B)!= 0 and independent, directly get possibility of win second\n",
    "MwinSecond"
   ]
  },
  {
   "cell_type": "code",
   "execution_count": 27,
   "metadata": {},
   "outputs": [
    {
     "data": {
      "text/plain": [
       "0.04692821357999842"
      ]
     },
     "execution_count": 27,
     "metadata": {},
     "output_type": "execute_result"
    }
   ],
   "source": [
    "def Mer(outcome): return \"MERCEDES\" in outcome\n",
    "def MwinTwice(outcome): return outcome == \"MERCEDES,MERCEDES\"\n",
    "\n",
    "FwinBoth = p(MwinTwice,such_that(Mer,twoRace2)) # Possibility of win twice baesd on win one\n",
    "FwinBoth"
   ]
  },
  {
   "cell_type": "code",
   "execution_count": 28,
   "metadata": {},
   "outputs": [
    {
     "data": {
      "text/plain": [
       "0.005753739930955123"
      ]
     },
     "execution_count": 28,
     "metadata": {},
     "output_type": "execute_result"
    }
   ],
   "source": [
    "def AwinSecond(outcome): return outcome.split(\",\")[1] == \"ALFA_ROMEO_FERRARI\"\n",
    "\n",
    "AwinSecond = p(AwinSecond,twoRace2)  # P(B)!= 0 and independent, directly get possibility of win second\n",
    "AwinSecond"
   ]
  },
  {
   "cell_type": "code",
   "execution_count": 29,
   "metadata": {},
   "outputs": [
    {
     "data": {
      "text/plain": [
       "0.0028851702250432773"
      ]
     },
     "execution_count": 29,
     "metadata": {},
     "output_type": "execute_result"
    }
   ],
   "source": [
    "def Alf(outcome): return \"ALFA_ROMEO_FERRARI\" in outcome\n",
    "def AwinTwice(outcome): return outcome == \"ALFA_ROMEO_FERRARI,ALFA_ROMEO_FERRARI\"\n",
    "\n",
    "AwinBoth = p(AwinTwice,such_that(Alf,twoRace2)) # Possibility of win twice baesd on win one\n",
    "AwinBoth"
   ]
  },
  {
   "cell_type": "markdown",
   "metadata": {},
   "source": [
    "## Q3\n",
    "## Red Bull wins one of these two races on a rainy day. What is the probability Red Bull wins both races, assuming races can be held on either rainy, sunny, cloudy, snowy or foggy days? Assume that rain, sun, clouds, snow, and fog are the only possible weather conditions on race tracks and there is an equal probability for each one of these weather events."
   ]
  },
  {
   "cell_type": "code",
   "execution_count": 51,
   "metadata": {},
   "outputs": [
    {
     "data": {
      "text/plain": [
       "{'S': 0.2, 'R': 0.2, 'N': 0.2, 'C': 0.2, 'F': 0.2}"
      ]
     },
     "execution_count": 51,
     "metadata": {},
     "output_type": "execute_result"
    }
   ],
   "source": [
    "weather = ProbDist(   \n",
    "    S = 1,\n",
    "    R = 1,\n",
    "    N = 1,\n",
    "    C = 1,\n",
    "    F = 1\n",
    ")\n",
    "weather"
   ]
  },
  {
   "cell_type": "code",
   "execution_count": 52,
   "metadata": {},
   "outputs": [
    {
     "data": {
      "text/plain": [
       "{'MVRB': 0.19335604770017037,\n",
       " 'CLFE': 0.131175468483816,\n",
       " 'SPRB': 0.12989778534923338,\n",
       " 'GRME': 0.11712095400340715,\n",
       " 'CSFE': 0.10477001703577513,\n",
       " 'LHME': 0.10221465076660988,\n",
       " 'LNMC': 0.051959114139693355,\n",
       " 'EOAR': 0.039182282793867124,\n",
       " 'FAAR': 0.034497444633730834,\n",
       " 'VBAL': 0.020868824531516183,\n",
       " 'DRMC': 0.01575809199318569,\n",
       " 'SVAM': 0.01575809199318569,\n",
       " 'KMHF': 0.010647359454855196,\n",
       " 'PGAT': 0.009795570698466781,\n",
       " 'LSAM': 0.007666098807495741,\n",
       " 'MSHF': 0.005110732538330494,\n",
       " 'YTAT': 0.005110732538330494,\n",
       " 'ZGAL': 0.002555366269165247,\n",
       " 'AAWM': 0.0017035775127768314,\n",
       " 'NLWM': 0.0008517887563884157}"
      ]
     },
     "execution_count": 52,
     "metadata": {},
     "output_type": "execute_result"
    }
   ],
   "source": [
    "QTGPT = ProbDist(\n",
    "    MVRB = 454,\n",
    "    CLFE = 308,\n",
    "    SPRB = 305,\n",
    "    GRME = 275,\n",
    "    CSFE = 246,\n",
    "    LHME = 240,\n",
    "    LNMC = 122,\n",
    "    EOAR = 92,\n",
    "    FAAR = 81,\n",
    "    VBAL = 49,\n",
    "    DRMC = 37,\n",
    "    SVAM = 37,\n",
    "    KMHF = 25,\n",
    "    PGAT = 23,\n",
    "    LSAM = 18,\n",
    "    MSHF = 12,\n",
    "    YTAT = 12,\n",
    "    ZGAL = 6,\n",
    "    AAWM = 4,\n",
    "    NLWM = 2\n",
    ")\n",
    "QTGPT"
   ]
  },
  {
   "cell_type": "code",
   "execution_count": 53,
   "metadata": {},
   "outputs": [
    {
     "data": {
      "text/plain": [
       "{'MVRB': 0.19335604770017037,\n",
       " 'CLFE': 0.131175468483816,\n",
       " 'SPRB': 0.12989778534923338,\n",
       " 'GRME': 0.11712095400340715,\n",
       " 'CSFE': 0.10477001703577513,\n",
       " 'LHME': 0.10221465076660988,\n",
       " 'LNMC': 0.051959114139693355,\n",
       " 'EOAR': 0.039182282793867124,\n",
       " 'FAAR': 0.034497444633730834,\n",
       " 'VBAL': 0.020868824531516183,\n",
       " 'DRMC': 0.01575809199318569,\n",
       " 'SVAM': 0.01575809199318569,\n",
       " 'KMHF': 0.010647359454855196,\n",
       " 'PGAT': 0.009795570698466781,\n",
       " 'LSAM': 0.007666098807495741,\n",
       " 'MSHF': 0.005110732538330494,\n",
       " 'YTAT': 0.005110732538330494,\n",
       " 'ZGAL': 0.002555366269165247,\n",
       " 'AAWM': 0.0017035775127768314,\n",
       " 'NLWM': 0.0008517887563884157}"
      ]
     },
     "execution_count": 53,
     "metadata": {},
     "output_type": "execute_result"
    }
   ],
   "source": [
    "USGPT = ProbDist(\n",
    "    MVRB = 454,\n",
    "    CLFE = 308,\n",
    "    SPRB = 305,\n",
    "    GRME = 275,\n",
    "    CSFE = 246,\n",
    "    LHME = 240,\n",
    "    LNMC = 122,\n",
    "    EOAR = 92,\n",
    "    FAAR = 81,\n",
    "    VBAL = 49,\n",
    "    DRMC = 37,\n",
    "    SVAM = 37,\n",
    "    KMHF = 25,\n",
    "    PGAT = 23,\n",
    "    LSAM = 18,\n",
    "    MSHF = 12,\n",
    "    YTAT = 12,\n",
    "    ZGAL = 6,\n",
    "    AAWM = 4,\n",
    "    NLWM = 2\n",
    ")\n",
    "USGPT"
   ]
  },
  {
   "cell_type": "code",
   "execution_count": 54,
   "metadata": {},
   "outputs": [
    {
     "data": {
      "text/plain": [
       "{'MVRB S MVRB S': 0.001495462447289193,\n",
       " 'MVRB S MVRB R': 0.001495462447289193,\n",
       " 'MVRB S MVRB N': 0.001495462447289193,\n",
       " 'MVRB S MVRB C': 0.001495462447289193,\n",
       " 'MVRB S MVRB F': 0.001495462447289193,\n",
       " 'MVRB R MVRB S': 0.001495462447289193,\n",
       " 'MVRB R MVRB R': 0.001495462447289193,\n",
       " 'MVRB R MVRB N': 0.001495462447289193,\n",
       " 'MVRB R MVRB C': 0.001495462447289193,\n",
       " 'MVRB R MVRB F': 0.001495462447289193,\n",
       " 'MVRB N MVRB S': 0.001495462447289193,\n",
       " 'MVRB N MVRB R': 0.001495462447289193,\n",
       " 'MVRB N MVRB N': 0.001495462447289193,\n",
       " 'MVRB N MVRB C': 0.001495462447289193,\n",
       " 'MVRB N MVRB F': 0.001495462447289193,\n",
       " 'MVRB C MVRB S': 0.001495462447289193,\n",
       " 'MVRB C MVRB R': 0.001495462447289193,\n",
       " 'MVRB C MVRB N': 0.001495462447289193,\n",
       " 'MVRB C MVRB C': 0.001495462447289193,\n",
       " 'MVRB C MVRB F': 0.001495462447289193,\n",
       " 'MVRB F MVRB S': 0.001495462447289193,\n",
       " 'MVRB F MVRB R': 0.001495462447289193,\n",
       " 'MVRB F MVRB N': 0.001495462447289193,\n",
       " 'MVRB F MVRB C': 0.001495462447289193,\n",
       " 'MVRB F MVRB F': 0.001495462447289193,\n",
       " 'MVRB S CLFE S': 0.001014542805649937,\n",
       " 'MVRB S CLFE R': 0.001014542805649937,\n",
       " 'MVRB S CLFE N': 0.001014542805649937,\n",
       " 'MVRB S CLFE C': 0.001014542805649937,\n",
       " 'MVRB S CLFE F': 0.001014542805649937,\n",
       " 'MVRB R CLFE S': 0.001014542805649937,\n",
       " 'MVRB R CLFE R': 0.001014542805649937,\n",
       " 'MVRB R CLFE N': 0.001014542805649937,\n",
       " 'MVRB R CLFE C': 0.001014542805649937,\n",
       " 'MVRB R CLFE F': 0.001014542805649937,\n",
       " 'MVRB N CLFE S': 0.001014542805649937,\n",
       " 'MVRB N CLFE R': 0.001014542805649937,\n",
       " 'MVRB N CLFE N': 0.001014542805649937,\n",
       " 'MVRB N CLFE C': 0.001014542805649937,\n",
       " 'MVRB N CLFE F': 0.001014542805649937,\n",
       " 'MVRB C CLFE S': 0.001014542805649937,\n",
       " 'MVRB C CLFE R': 0.001014542805649937,\n",
       " 'MVRB C CLFE N': 0.001014542805649937,\n",
       " 'MVRB C CLFE C': 0.001014542805649937,\n",
       " 'MVRB C CLFE F': 0.001014542805649937,\n",
       " 'MVRB F CLFE S': 0.001014542805649937,\n",
       " 'MVRB F CLFE R': 0.001014542805649937,\n",
       " 'MVRB F CLFE N': 0.001014542805649937,\n",
       " 'MVRB F CLFE C': 0.001014542805649937,\n",
       " 'MVRB F CLFE F': 0.001014542805649937,\n",
       " 'MVRB S SPRB S': 0.0010046608952052945,\n",
       " 'MVRB S SPRB R': 0.0010046608952052945,\n",
       " 'MVRB S SPRB N': 0.0010046608952052945,\n",
       " 'MVRB S SPRB C': 0.0010046608952052945,\n",
       " 'MVRB S SPRB F': 0.0010046608952052945,\n",
       " 'MVRB R SPRB S': 0.0010046608952052945,\n",
       " 'MVRB R SPRB R': 0.0010046608952052945,\n",
       " 'MVRB R SPRB N': 0.0010046608952052945,\n",
       " 'MVRB R SPRB C': 0.0010046608952052945,\n",
       " 'MVRB R SPRB F': 0.0010046608952052945,\n",
       " 'MVRB N SPRB S': 0.0010046608952052945,\n",
       " 'MVRB N SPRB R': 0.0010046608952052945,\n",
       " 'MVRB N SPRB N': 0.0010046608952052945,\n",
       " 'MVRB N SPRB C': 0.0010046608952052945,\n",
       " 'MVRB N SPRB F': 0.0010046608952052945,\n",
       " 'MVRB C SPRB S': 0.0010046608952052945,\n",
       " 'MVRB C SPRB R': 0.0010046608952052945,\n",
       " 'MVRB C SPRB N': 0.0010046608952052945,\n",
       " 'MVRB C SPRB C': 0.0010046608952052945,\n",
       " 'MVRB C SPRB F': 0.0010046608952052945,\n",
       " 'MVRB F SPRB S': 0.0010046608952052945,\n",
       " 'MVRB F SPRB R': 0.0010046608952052945,\n",
       " 'MVRB F SPRB N': 0.0010046608952052945,\n",
       " 'MVRB F SPRB C': 0.0010046608952052945,\n",
       " 'MVRB F SPRB F': 0.0010046608952052945,\n",
       " 'MVRB S GRME S': 0.0009058417907588722,\n",
       " 'MVRB S GRME R': 0.0009058417907588722,\n",
       " 'MVRB S GRME N': 0.0009058417907588722,\n",
       " 'MVRB S GRME C': 0.0009058417907588722,\n",
       " 'MVRB S GRME F': 0.0009058417907588722,\n",
       " 'MVRB R GRME S': 0.0009058417907588722,\n",
       " 'MVRB R GRME R': 0.0009058417907588722,\n",
       " 'MVRB R GRME N': 0.0009058417907588722,\n",
       " 'MVRB R GRME C': 0.0009058417907588722,\n",
       " 'MVRB R GRME F': 0.0009058417907588722,\n",
       " 'MVRB N GRME S': 0.0009058417907588722,\n",
       " 'MVRB N GRME R': 0.0009058417907588722,\n",
       " 'MVRB N GRME N': 0.0009058417907588722,\n",
       " 'MVRB N GRME C': 0.0009058417907588722,\n",
       " 'MVRB N GRME F': 0.0009058417907588722,\n",
       " 'MVRB C GRME S': 0.0009058417907588722,\n",
       " 'MVRB C GRME R': 0.0009058417907588722,\n",
       " 'MVRB C GRME N': 0.0009058417907588722,\n",
       " 'MVRB C GRME C': 0.0009058417907588722,\n",
       " 'MVRB C GRME F': 0.0009058417907588722,\n",
       " 'MVRB F GRME S': 0.0009058417907588722,\n",
       " 'MVRB F GRME R': 0.0009058417907588722,\n",
       " 'MVRB F GRME N': 0.0009058417907588722,\n",
       " 'MVRB F GRME C': 0.0009058417907588722,\n",
       " 'MVRB F GRME F': 0.0009058417907588722,\n",
       " 'MVRB S CSFE S': 0.0008103166564606639,\n",
       " 'MVRB S CSFE R': 0.0008103166564606639,\n",
       " 'MVRB S CSFE N': 0.0008103166564606639,\n",
       " 'MVRB S CSFE C': 0.0008103166564606639,\n",
       " 'MVRB S CSFE F': 0.0008103166564606639,\n",
       " 'MVRB R CSFE S': 0.0008103166564606639,\n",
       " 'MVRB R CSFE R': 0.0008103166564606639,\n",
       " 'MVRB R CSFE N': 0.0008103166564606639,\n",
       " 'MVRB R CSFE C': 0.0008103166564606639,\n",
       " 'MVRB R CSFE F': 0.0008103166564606639,\n",
       " 'MVRB N CSFE S': 0.0008103166564606639,\n",
       " 'MVRB N CSFE R': 0.0008103166564606639,\n",
       " 'MVRB N CSFE N': 0.0008103166564606639,\n",
       " 'MVRB N CSFE C': 0.0008103166564606639,\n",
       " 'MVRB N CSFE F': 0.0008103166564606639,\n",
       " 'MVRB C CSFE S': 0.0008103166564606639,\n",
       " 'MVRB C CSFE R': 0.0008103166564606639,\n",
       " 'MVRB C CSFE N': 0.0008103166564606639,\n",
       " 'MVRB C CSFE C': 0.0008103166564606639,\n",
       " 'MVRB C CSFE F': 0.0008103166564606639,\n",
       " 'MVRB F CSFE S': 0.0008103166564606639,\n",
       " 'MVRB F CSFE R': 0.0008103166564606639,\n",
       " 'MVRB F CSFE N': 0.0008103166564606639,\n",
       " 'MVRB F CSFE C': 0.0008103166564606639,\n",
       " 'MVRB F CSFE F': 0.0008103166564606639,\n",
       " 'MVRB S LHME S': 0.0007905528355713796,\n",
       " 'MVRB S LHME R': 0.0007905528355713796,\n",
       " 'MVRB S LHME N': 0.0007905528355713796,\n",
       " 'MVRB S LHME C': 0.0007905528355713796,\n",
       " 'MVRB S LHME F': 0.0007905528355713796,\n",
       " 'MVRB R LHME S': 0.0007905528355713796,\n",
       " 'MVRB R LHME R': 0.0007905528355713796,\n",
       " 'MVRB R LHME N': 0.0007905528355713796,\n",
       " 'MVRB R LHME C': 0.0007905528355713796,\n",
       " 'MVRB R LHME F': 0.0007905528355713796,\n",
       " 'MVRB N LHME S': 0.0007905528355713796,\n",
       " 'MVRB N LHME R': 0.0007905528355713796,\n",
       " 'MVRB N LHME N': 0.0007905528355713796,\n",
       " 'MVRB N LHME C': 0.0007905528355713796,\n",
       " 'MVRB N LHME F': 0.0007905528355713796,\n",
       " 'MVRB C LHME S': 0.0007905528355713796,\n",
       " 'MVRB C LHME R': 0.0007905528355713796,\n",
       " 'MVRB C LHME N': 0.0007905528355713796,\n",
       " 'MVRB C LHME C': 0.0007905528355713796,\n",
       " 'MVRB C LHME F': 0.0007905528355713796,\n",
       " 'MVRB F LHME S': 0.0007905528355713796,\n",
       " 'MVRB F LHME R': 0.0007905528355713796,\n",
       " 'MVRB F LHME N': 0.0007905528355713796,\n",
       " 'MVRB F LHME C': 0.0007905528355713796,\n",
       " 'MVRB F LHME F': 0.0007905528355713796,\n",
       " 'MVRB S LNMC S': 0.0004018643580821179,\n",
       " 'MVRB S LNMC R': 0.0004018643580821179,\n",
       " 'MVRB S LNMC N': 0.0004018643580821179,\n",
       " 'MVRB S LNMC C': 0.0004018643580821179,\n",
       " 'MVRB S LNMC F': 0.0004018643580821179,\n",
       " 'MVRB R LNMC S': 0.0004018643580821179,\n",
       " 'MVRB R LNMC R': 0.0004018643580821179,\n",
       " 'MVRB R LNMC N': 0.0004018643580821179,\n",
       " 'MVRB R LNMC C': 0.0004018643580821179,\n",
       " 'MVRB R LNMC F': 0.0004018643580821179,\n",
       " 'MVRB N LNMC S': 0.0004018643580821179,\n",
       " 'MVRB N LNMC R': 0.0004018643580821179,\n",
       " 'MVRB N LNMC N': 0.0004018643580821179,\n",
       " 'MVRB N LNMC C': 0.0004018643580821179,\n",
       " 'MVRB N LNMC F': 0.0004018643580821179,\n",
       " 'MVRB C LNMC S': 0.0004018643580821179,\n",
       " 'MVRB C LNMC R': 0.0004018643580821179,\n",
       " 'MVRB C LNMC N': 0.0004018643580821179,\n",
       " 'MVRB C LNMC C': 0.0004018643580821179,\n",
       " 'MVRB C LNMC F': 0.0004018643580821179,\n",
       " 'MVRB F LNMC S': 0.0004018643580821179,\n",
       " 'MVRB F LNMC R': 0.0004018643580821179,\n",
       " 'MVRB F LNMC N': 0.0004018643580821179,\n",
       " 'MVRB F LNMC C': 0.0004018643580821179,\n",
       " 'MVRB F LNMC F': 0.0004018643580821179,\n",
       " 'MVRB S EOAR S': 0.0003030452536356955,\n",
       " 'MVRB S EOAR R': 0.0003030452536356955,\n",
       " 'MVRB S EOAR N': 0.0003030452536356955,\n",
       " 'MVRB S EOAR C': 0.0003030452536356955,\n",
       " 'MVRB S EOAR F': 0.0003030452536356955,\n",
       " 'MVRB R EOAR S': 0.0003030452536356955,\n",
       " 'MVRB R EOAR R': 0.0003030452536356955,\n",
       " 'MVRB R EOAR N': 0.0003030452536356955,\n",
       " 'MVRB R EOAR C': 0.0003030452536356955,\n",
       " 'MVRB R EOAR F': 0.0003030452536356955,\n",
       " 'MVRB N EOAR S': 0.0003030452536356955,\n",
       " 'MVRB N EOAR R': 0.0003030452536356955,\n",
       " 'MVRB N EOAR N': 0.0003030452536356955,\n",
       " 'MVRB N EOAR C': 0.0003030452536356955,\n",
       " 'MVRB N EOAR F': 0.0003030452536356955,\n",
       " 'MVRB C EOAR S': 0.0003030452536356955,\n",
       " 'MVRB C EOAR R': 0.0003030452536356955,\n",
       " 'MVRB C EOAR N': 0.0003030452536356955,\n",
       " 'MVRB C EOAR C': 0.0003030452536356955,\n",
       " 'MVRB C EOAR F': 0.0003030452536356955,\n",
       " 'MVRB F EOAR S': 0.0003030452536356955,\n",
       " 'MVRB F EOAR R': 0.0003030452536356955,\n",
       " 'MVRB F EOAR N': 0.0003030452536356955,\n",
       " 'MVRB F EOAR C': 0.0003030452536356955,\n",
       " 'MVRB F EOAR F': 0.0003030452536356955,\n",
       " 'MVRB S FAAR S': 0.00026681158200534056,\n",
       " 'MVRB S FAAR R': 0.00026681158200534056,\n",
       " 'MVRB S FAAR N': 0.00026681158200534056,\n",
       " 'MVRB S FAAR C': 0.00026681158200534056,\n",
       " 'MVRB S FAAR F': 0.00026681158200534056,\n",
       " 'MVRB R FAAR S': 0.00026681158200534056,\n",
       " 'MVRB R FAAR R': 0.00026681158200534056,\n",
       " 'MVRB R FAAR N': 0.00026681158200534056,\n",
       " 'MVRB R FAAR C': 0.00026681158200534056,\n",
       " 'MVRB R FAAR F': 0.00026681158200534056,\n",
       " 'MVRB N FAAR S': 0.00026681158200534056,\n",
       " 'MVRB N FAAR R': 0.00026681158200534056,\n",
       " 'MVRB N FAAR N': 0.00026681158200534056,\n",
       " 'MVRB N FAAR C': 0.00026681158200534056,\n",
       " 'MVRB N FAAR F': 0.00026681158200534056,\n",
       " 'MVRB C FAAR S': 0.00026681158200534056,\n",
       " 'MVRB C FAAR R': 0.00026681158200534056,\n",
       " 'MVRB C FAAR N': 0.00026681158200534056,\n",
       " 'MVRB C FAAR C': 0.00026681158200534056,\n",
       " 'MVRB C FAAR F': 0.00026681158200534056,\n",
       " 'MVRB F FAAR S': 0.00026681158200534056,\n",
       " 'MVRB F FAAR R': 0.00026681158200534056,\n",
       " 'MVRB F FAAR N': 0.00026681158200534056,\n",
       " 'MVRB F FAAR C': 0.00026681158200534056,\n",
       " 'MVRB F FAAR F': 0.00026681158200534056,\n",
       " 'MVRB S VBAL S': 0.00016140453726248995,\n",
       " 'MVRB S VBAL R': 0.00016140453726248995,\n",
       " 'MVRB S VBAL N': 0.00016140453726248995,\n",
       " 'MVRB S VBAL C': 0.00016140453726248995,\n",
       " 'MVRB S VBAL F': 0.00016140453726248995,\n",
       " 'MVRB R VBAL S': 0.00016140453726248995,\n",
       " 'MVRB R VBAL R': 0.00016140453726248995,\n",
       " 'MVRB R VBAL N': 0.00016140453726248995,\n",
       " 'MVRB R VBAL C': 0.00016140453726248995,\n",
       " 'MVRB R VBAL F': 0.00016140453726248995,\n",
       " 'MVRB N VBAL S': 0.00016140453726248995,\n",
       " 'MVRB N VBAL R': 0.00016140453726248995,\n",
       " 'MVRB N VBAL N': 0.00016140453726248995,\n",
       " 'MVRB N VBAL C': 0.00016140453726248995,\n",
       " 'MVRB N VBAL F': 0.00016140453726248995,\n",
       " 'MVRB C VBAL S': 0.00016140453726248995,\n",
       " 'MVRB C VBAL R': 0.00016140453726248995,\n",
       " 'MVRB C VBAL N': 0.00016140453726248995,\n",
       " 'MVRB C VBAL C': 0.00016140453726248995,\n",
       " 'MVRB C VBAL F': 0.00016140453726248995,\n",
       " 'MVRB F VBAL S': 0.00016140453726248995,\n",
       " 'MVRB F VBAL R': 0.00016140453726248995,\n",
       " 'MVRB F VBAL N': 0.00016140453726248995,\n",
       " 'MVRB F VBAL C': 0.00016140453726248995,\n",
       " 'MVRB F VBAL F': 0.00016140453726248995,\n",
       " 'MVRB S DRMC S': 0.000121876895483921,\n",
       " 'MVRB S DRMC R': 0.000121876895483921,\n",
       " 'MVRB S DRMC N': 0.000121876895483921,\n",
       " 'MVRB S DRMC C': 0.000121876895483921,\n",
       " 'MVRB S DRMC F': 0.000121876895483921,\n",
       " 'MVRB R DRMC S': 0.000121876895483921,\n",
       " 'MVRB R DRMC R': 0.000121876895483921,\n",
       " 'MVRB R DRMC N': 0.000121876895483921,\n",
       " 'MVRB R DRMC C': 0.000121876895483921,\n",
       " 'MVRB R DRMC F': 0.000121876895483921,\n",
       " 'MVRB N DRMC S': 0.000121876895483921,\n",
       " 'MVRB N DRMC R': 0.000121876895483921,\n",
       " 'MVRB N DRMC N': 0.000121876895483921,\n",
       " 'MVRB N DRMC C': 0.000121876895483921,\n",
       " 'MVRB N DRMC F': 0.000121876895483921,\n",
       " 'MVRB C DRMC S': 0.000121876895483921,\n",
       " 'MVRB C DRMC R': 0.000121876895483921,\n",
       " 'MVRB C DRMC N': 0.000121876895483921,\n",
       " 'MVRB C DRMC C': 0.000121876895483921,\n",
       " 'MVRB C DRMC F': 0.000121876895483921,\n",
       " 'MVRB F DRMC S': 0.000121876895483921,\n",
       " 'MVRB F DRMC R': 0.000121876895483921,\n",
       " 'MVRB F DRMC N': 0.000121876895483921,\n",
       " 'MVRB F DRMC C': 0.000121876895483921,\n",
       " 'MVRB F DRMC F': 0.000121876895483921,\n",
       " 'MVRB S SVAM S': 0.000121876895483921,\n",
       " 'MVRB S SVAM R': 0.000121876895483921,\n",
       " 'MVRB S SVAM N': 0.000121876895483921,\n",
       " 'MVRB S SVAM C': 0.000121876895483921,\n",
       " 'MVRB S SVAM F': 0.000121876895483921,\n",
       " 'MVRB R SVAM S': 0.000121876895483921,\n",
       " 'MVRB R SVAM R': 0.000121876895483921,\n",
       " 'MVRB R SVAM N': 0.000121876895483921,\n",
       " 'MVRB R SVAM C': 0.000121876895483921,\n",
       " 'MVRB R SVAM F': 0.000121876895483921,\n",
       " 'MVRB N SVAM S': 0.000121876895483921,\n",
       " 'MVRB N SVAM R': 0.000121876895483921,\n",
       " 'MVRB N SVAM N': 0.000121876895483921,\n",
       " 'MVRB N SVAM C': 0.000121876895483921,\n",
       " 'MVRB N SVAM F': 0.000121876895483921,\n",
       " 'MVRB C SVAM S': 0.000121876895483921,\n",
       " 'MVRB C SVAM R': 0.000121876895483921,\n",
       " 'MVRB C SVAM N': 0.000121876895483921,\n",
       " 'MVRB C SVAM C': 0.000121876895483921,\n",
       " 'MVRB C SVAM F': 0.000121876895483921,\n",
       " 'MVRB F SVAM S': 0.000121876895483921,\n",
       " 'MVRB F SVAM R': 0.000121876895483921,\n",
       " 'MVRB F SVAM N': 0.000121876895483921,\n",
       " 'MVRB F SVAM C': 0.000121876895483921,\n",
       " 'MVRB F SVAM F': 0.000121876895483921,\n",
       " 'MVRB S KMHF S': 8.234925370535204e-05,\n",
       " 'MVRB S KMHF R': 8.234925370535204e-05,\n",
       " 'MVRB S KMHF N': 8.234925370535204e-05,\n",
       " 'MVRB S KMHF C': 8.234925370535204e-05,\n",
       " 'MVRB S KMHF F': 8.234925370535204e-05,\n",
       " 'MVRB R KMHF S': 8.234925370535204e-05,\n",
       " 'MVRB R KMHF R': 8.234925370535204e-05,\n",
       " 'MVRB R KMHF N': 8.234925370535204e-05,\n",
       " 'MVRB R KMHF C': 8.234925370535204e-05,\n",
       " 'MVRB R KMHF F': 8.234925370535204e-05,\n",
       " 'MVRB N KMHF S': 8.234925370535204e-05,\n",
       " 'MVRB N KMHF R': 8.234925370535204e-05,\n",
       " 'MVRB N KMHF N': 8.234925370535204e-05,\n",
       " 'MVRB N KMHF C': 8.234925370535204e-05,\n",
       " 'MVRB N KMHF F': 8.234925370535204e-05,\n",
       " 'MVRB C KMHF S': 8.234925370535204e-05,\n",
       " 'MVRB C KMHF R': 8.234925370535204e-05,\n",
       " 'MVRB C KMHF N': 8.234925370535204e-05,\n",
       " 'MVRB C KMHF C': 8.234925370535204e-05,\n",
       " 'MVRB C KMHF F': 8.234925370535204e-05,\n",
       " 'MVRB F KMHF S': 8.234925370535204e-05,\n",
       " 'MVRB F KMHF R': 8.234925370535204e-05,\n",
       " 'MVRB F KMHF N': 8.234925370535204e-05,\n",
       " 'MVRB F KMHF C': 8.234925370535204e-05,\n",
       " 'MVRB F KMHF F': 8.234925370535204e-05,\n",
       " 'MVRB S PGAT S': 7.576131340892388e-05,\n",
       " 'MVRB S PGAT R': 7.576131340892388e-05,\n",
       " 'MVRB S PGAT N': 7.576131340892388e-05,\n",
       " 'MVRB S PGAT C': 7.576131340892388e-05,\n",
       " 'MVRB S PGAT F': 7.576131340892388e-05,\n",
       " 'MVRB R PGAT S': 7.576131340892388e-05,\n",
       " 'MVRB R PGAT R': 7.576131340892388e-05,\n",
       " 'MVRB R PGAT N': 7.576131340892388e-05,\n",
       " 'MVRB R PGAT C': 7.576131340892388e-05,\n",
       " 'MVRB R PGAT F': 7.576131340892388e-05,\n",
       " 'MVRB N PGAT S': 7.576131340892388e-05,\n",
       " 'MVRB N PGAT R': 7.576131340892388e-05,\n",
       " 'MVRB N PGAT N': 7.576131340892388e-05,\n",
       " 'MVRB N PGAT C': 7.576131340892388e-05,\n",
       " 'MVRB N PGAT F': 7.576131340892388e-05,\n",
       " 'MVRB C PGAT S': 7.576131340892388e-05,\n",
       " 'MVRB C PGAT R': 7.576131340892388e-05,\n",
       " 'MVRB C PGAT N': 7.576131340892388e-05,\n",
       " 'MVRB C PGAT C': 7.576131340892388e-05,\n",
       " 'MVRB C PGAT F': 7.576131340892388e-05,\n",
       " 'MVRB F PGAT S': 7.576131340892388e-05,\n",
       " 'MVRB F PGAT R': 7.576131340892388e-05,\n",
       " 'MVRB F PGAT N': 7.576131340892388e-05,\n",
       " 'MVRB F PGAT C': 7.576131340892388e-05,\n",
       " 'MVRB F PGAT F': 7.576131340892388e-05,\n",
       " 'MVRB S LSAM S': 5.929146266785346e-05,\n",
       " 'MVRB S LSAM R': 5.929146266785346e-05,\n",
       " 'MVRB S LSAM N': 5.929146266785346e-05,\n",
       " 'MVRB S LSAM C': 5.929146266785346e-05,\n",
       " 'MVRB S LSAM F': 5.929146266785346e-05,\n",
       " 'MVRB R LSAM S': 5.929146266785346e-05,\n",
       " 'MVRB R LSAM R': 5.929146266785346e-05,\n",
       " 'MVRB R LSAM N': 5.929146266785346e-05,\n",
       " 'MVRB R LSAM C': 5.929146266785346e-05,\n",
       " 'MVRB R LSAM F': 5.929146266785346e-05,\n",
       " 'MVRB N LSAM S': 5.929146266785346e-05,\n",
       " 'MVRB N LSAM R': 5.929146266785346e-05,\n",
       " 'MVRB N LSAM N': 5.929146266785346e-05,\n",
       " 'MVRB N LSAM C': 5.929146266785346e-05,\n",
       " 'MVRB N LSAM F': 5.929146266785346e-05,\n",
       " 'MVRB C LSAM S': 5.929146266785346e-05,\n",
       " 'MVRB C LSAM R': 5.929146266785346e-05,\n",
       " 'MVRB C LSAM N': 5.929146266785346e-05,\n",
       " 'MVRB C LSAM C': 5.929146266785346e-05,\n",
       " 'MVRB C LSAM F': 5.929146266785346e-05,\n",
       " 'MVRB F LSAM S': 5.929146266785346e-05,\n",
       " 'MVRB F LSAM R': 5.929146266785346e-05,\n",
       " 'MVRB F LSAM N': 5.929146266785346e-05,\n",
       " 'MVRB F LSAM C': 5.929146266785346e-05,\n",
       " 'MVRB F LSAM F': 5.929146266785346e-05,\n",
       " 'MVRB S MSHF S': 3.952764177856897e-05,\n",
       " 'MVRB S MSHF R': 3.952764177856897e-05,\n",
       " 'MVRB S MSHF N': 3.952764177856897e-05,\n",
       " 'MVRB S MSHF C': 3.952764177856897e-05,\n",
       " 'MVRB S MSHF F': 3.952764177856897e-05,\n",
       " 'MVRB R MSHF S': 3.952764177856897e-05,\n",
       " 'MVRB R MSHF R': 3.952764177856897e-05,\n",
       " 'MVRB R MSHF N': 3.952764177856897e-05,\n",
       " 'MVRB R MSHF C': 3.952764177856897e-05,\n",
       " 'MVRB R MSHF F': 3.952764177856897e-05,\n",
       " 'MVRB N MSHF S': 3.952764177856897e-05,\n",
       " 'MVRB N MSHF R': 3.952764177856897e-05,\n",
       " 'MVRB N MSHF N': 3.952764177856897e-05,\n",
       " 'MVRB N MSHF C': 3.952764177856897e-05,\n",
       " 'MVRB N MSHF F': 3.952764177856897e-05,\n",
       " 'MVRB C MSHF S': 3.952764177856897e-05,\n",
       " 'MVRB C MSHF R': 3.952764177856897e-05,\n",
       " 'MVRB C MSHF N': 3.952764177856897e-05,\n",
       " 'MVRB C MSHF C': 3.952764177856897e-05,\n",
       " 'MVRB C MSHF F': 3.952764177856897e-05,\n",
       " 'MVRB F MSHF S': 3.952764177856897e-05,\n",
       " 'MVRB F MSHF R': 3.952764177856897e-05,\n",
       " 'MVRB F MSHF N': 3.952764177856897e-05,\n",
       " 'MVRB F MSHF C': 3.952764177856897e-05,\n",
       " 'MVRB F MSHF F': 3.952764177856897e-05,\n",
       " 'MVRB S YTAT S': 3.952764177856897e-05,\n",
       " 'MVRB S YTAT R': 3.952764177856897e-05,\n",
       " 'MVRB S YTAT N': 3.952764177856897e-05,\n",
       " 'MVRB S YTAT C': 3.952764177856897e-05,\n",
       " 'MVRB S YTAT F': 3.952764177856897e-05,\n",
       " 'MVRB R YTAT S': 3.952764177856897e-05,\n",
       " 'MVRB R YTAT R': 3.952764177856897e-05,\n",
       " 'MVRB R YTAT N': 3.952764177856897e-05,\n",
       " 'MVRB R YTAT C': 3.952764177856897e-05,\n",
       " 'MVRB R YTAT F': 3.952764177856897e-05,\n",
       " 'MVRB N YTAT S': 3.952764177856897e-05,\n",
       " 'MVRB N YTAT R': 3.952764177856897e-05,\n",
       " 'MVRB N YTAT N': 3.952764177856897e-05,\n",
       " 'MVRB N YTAT C': 3.952764177856897e-05,\n",
       " 'MVRB N YTAT F': 3.952764177856897e-05,\n",
       " 'MVRB C YTAT S': 3.952764177856897e-05,\n",
       " 'MVRB C YTAT R': 3.952764177856897e-05,\n",
       " 'MVRB C YTAT N': 3.952764177856897e-05,\n",
       " 'MVRB C YTAT C': 3.952764177856897e-05,\n",
       " 'MVRB C YTAT F': 3.952764177856897e-05,\n",
       " 'MVRB F YTAT S': 3.952764177856897e-05,\n",
       " 'MVRB F YTAT R': 3.952764177856897e-05,\n",
       " 'MVRB F YTAT N': 3.952764177856897e-05,\n",
       " 'MVRB F YTAT C': 3.952764177856897e-05,\n",
       " 'MVRB F YTAT F': 3.952764177856897e-05,\n",
       " 'MVRB S ZGAL S': 1.9763820889284486e-05,\n",
       " 'MVRB S ZGAL R': 1.9763820889284486e-05,\n",
       " 'MVRB S ZGAL N': 1.9763820889284486e-05,\n",
       " 'MVRB S ZGAL C': 1.9763820889284486e-05,\n",
       " 'MVRB S ZGAL F': 1.9763820889284486e-05,\n",
       " 'MVRB R ZGAL S': 1.9763820889284486e-05,\n",
       " 'MVRB R ZGAL R': 1.9763820889284486e-05,\n",
       " 'MVRB R ZGAL N': 1.9763820889284486e-05,\n",
       " 'MVRB R ZGAL C': 1.9763820889284486e-05,\n",
       " 'MVRB R ZGAL F': 1.9763820889284486e-05,\n",
       " 'MVRB N ZGAL S': 1.9763820889284486e-05,\n",
       " 'MVRB N ZGAL R': 1.9763820889284486e-05,\n",
       " 'MVRB N ZGAL N': 1.9763820889284486e-05,\n",
       " 'MVRB N ZGAL C': 1.9763820889284486e-05,\n",
       " 'MVRB N ZGAL F': 1.9763820889284486e-05,\n",
       " 'MVRB C ZGAL S': 1.9763820889284486e-05,\n",
       " 'MVRB C ZGAL R': 1.9763820889284486e-05,\n",
       " 'MVRB C ZGAL N': 1.9763820889284486e-05,\n",
       " 'MVRB C ZGAL C': 1.9763820889284486e-05,\n",
       " 'MVRB C ZGAL F': 1.9763820889284486e-05,\n",
       " 'MVRB F ZGAL S': 1.9763820889284486e-05,\n",
       " 'MVRB F ZGAL R': 1.9763820889284486e-05,\n",
       " 'MVRB F ZGAL N': 1.9763820889284486e-05,\n",
       " 'MVRB F ZGAL C': 1.9763820889284486e-05,\n",
       " 'MVRB F ZGAL F': 1.9763820889284486e-05,\n",
       " 'MVRB S AAWM S': 1.3175880592856324e-05,\n",
       " 'MVRB S AAWM R': 1.3175880592856324e-05,\n",
       " 'MVRB S AAWM N': 1.3175880592856324e-05,\n",
       " 'MVRB S AAWM C': 1.3175880592856324e-05,\n",
       " 'MVRB S AAWM F': 1.3175880592856324e-05,\n",
       " 'MVRB R AAWM S': 1.3175880592856324e-05,\n",
       " 'MVRB R AAWM R': 1.3175880592856324e-05,\n",
       " 'MVRB R AAWM N': 1.3175880592856324e-05,\n",
       " 'MVRB R AAWM C': 1.3175880592856324e-05,\n",
       " 'MVRB R AAWM F': 1.3175880592856324e-05,\n",
       " 'MVRB N AAWM S': 1.3175880592856324e-05,\n",
       " 'MVRB N AAWM R': 1.3175880592856324e-05,\n",
       " 'MVRB N AAWM N': 1.3175880592856324e-05,\n",
       " 'MVRB N AAWM C': 1.3175880592856324e-05,\n",
       " 'MVRB N AAWM F': 1.3175880592856324e-05,\n",
       " 'MVRB C AAWM S': 1.3175880592856324e-05,\n",
       " 'MVRB C AAWM R': 1.3175880592856324e-05,\n",
       " 'MVRB C AAWM N': 1.3175880592856324e-05,\n",
       " 'MVRB C AAWM C': 1.3175880592856324e-05,\n",
       " 'MVRB C AAWM F': 1.3175880592856324e-05,\n",
       " 'MVRB F AAWM S': 1.3175880592856324e-05,\n",
       " 'MVRB F AAWM R': 1.3175880592856324e-05,\n",
       " 'MVRB F AAWM N': 1.3175880592856324e-05,\n",
       " 'MVRB F AAWM C': 1.3175880592856324e-05,\n",
       " 'MVRB F AAWM F': 1.3175880592856324e-05,\n",
       " 'MVRB S NLWM S': 6.587940296428162e-06,\n",
       " 'MVRB S NLWM R': 6.587940296428162e-06,\n",
       " 'MVRB S NLWM N': 6.587940296428162e-06,\n",
       " 'MVRB S NLWM C': 6.587940296428162e-06,\n",
       " 'MVRB S NLWM F': 6.587940296428162e-06,\n",
       " 'MVRB R NLWM S': 6.587940296428162e-06,\n",
       " 'MVRB R NLWM R': 6.587940296428162e-06,\n",
       " 'MVRB R NLWM N': 6.587940296428162e-06,\n",
       " 'MVRB R NLWM C': 6.587940296428162e-06,\n",
       " 'MVRB R NLWM F': 6.587940296428162e-06,\n",
       " 'MVRB N NLWM S': 6.587940296428162e-06,\n",
       " 'MVRB N NLWM R': 6.587940296428162e-06,\n",
       " 'MVRB N NLWM N': 6.587940296428162e-06,\n",
       " 'MVRB N NLWM C': 6.587940296428162e-06,\n",
       " 'MVRB N NLWM F': 6.587940296428162e-06,\n",
       " 'MVRB C NLWM S': 6.587940296428162e-06,\n",
       " 'MVRB C NLWM R': 6.587940296428162e-06,\n",
       " 'MVRB C NLWM N': 6.587940296428162e-06,\n",
       " 'MVRB C NLWM C': 6.587940296428162e-06,\n",
       " 'MVRB C NLWM F': 6.587940296428162e-06,\n",
       " 'MVRB F NLWM S': 6.587940296428162e-06,\n",
       " 'MVRB F NLWM R': 6.587940296428162e-06,\n",
       " 'MVRB F NLWM N': 6.587940296428162e-06,\n",
       " 'MVRB F NLWM C': 6.587940296428162e-06,\n",
       " 'MVRB F NLWM F': 6.587940296428162e-06,\n",
       " 'CLFE S MVRB S': 0.001014542805649937,\n",
       " 'CLFE S MVRB R': 0.001014542805649937,\n",
       " 'CLFE S MVRB N': 0.001014542805649937,\n",
       " 'CLFE S MVRB C': 0.001014542805649937,\n",
       " 'CLFE S MVRB F': 0.001014542805649937,\n",
       " 'CLFE R MVRB S': 0.001014542805649937,\n",
       " 'CLFE R MVRB R': 0.001014542805649937,\n",
       " 'CLFE R MVRB N': 0.001014542805649937,\n",
       " 'CLFE R MVRB C': 0.001014542805649937,\n",
       " 'CLFE R MVRB F': 0.001014542805649937,\n",
       " 'CLFE N MVRB S': 0.001014542805649937,\n",
       " 'CLFE N MVRB R': 0.001014542805649937,\n",
       " 'CLFE N MVRB N': 0.001014542805649937,\n",
       " 'CLFE N MVRB C': 0.001014542805649937,\n",
       " 'CLFE N MVRB F': 0.001014542805649937,\n",
       " 'CLFE C MVRB S': 0.001014542805649937,\n",
       " 'CLFE C MVRB R': 0.001014542805649937,\n",
       " 'CLFE C MVRB N': 0.001014542805649937,\n",
       " 'CLFE C MVRB C': 0.001014542805649937,\n",
       " 'CLFE C MVRB F': 0.001014542805649937,\n",
       " 'CLFE F MVRB S': 0.001014542805649937,\n",
       " 'CLFE F MVRB R': 0.001014542805649937,\n",
       " 'CLFE F MVRB N': 0.001014542805649937,\n",
       " 'CLFE F MVRB C': 0.001014542805649937,\n",
       " 'CLFE F MVRB F': 0.001014542805649937,\n",
       " 'CLFE S CLFE S': 0.0006882801412779308,\n",
       " 'CLFE S CLFE R': 0.0006882801412779308,\n",
       " 'CLFE S CLFE N': 0.0006882801412779308,\n",
       " 'CLFE S CLFE C': 0.0006882801412779308,\n",
       " 'CLFE S CLFE F': 0.0006882801412779308,\n",
       " 'CLFE R CLFE S': 0.0006882801412779308,\n",
       " 'CLFE R CLFE R': 0.0006882801412779308,\n",
       " 'CLFE R CLFE N': 0.0006882801412779308,\n",
       " 'CLFE R CLFE C': 0.0006882801412779308,\n",
       " 'CLFE R CLFE F': 0.0006882801412779308,\n",
       " 'CLFE N CLFE S': 0.0006882801412779308,\n",
       " 'CLFE N CLFE R': 0.0006882801412779308,\n",
       " 'CLFE N CLFE N': 0.0006882801412779308,\n",
       " 'CLFE N CLFE C': 0.0006882801412779308,\n",
       " 'CLFE N CLFE F': 0.0006882801412779308,\n",
       " 'CLFE C CLFE S': 0.0006882801412779308,\n",
       " 'CLFE C CLFE R': 0.0006882801412779308,\n",
       " 'CLFE C CLFE N': 0.0006882801412779308,\n",
       " 'CLFE C CLFE C': 0.0006882801412779308,\n",
       " 'CLFE C CLFE F': 0.0006882801412779308,\n",
       " 'CLFE F CLFE S': 0.0006882801412779308,\n",
       " 'CLFE F CLFE R': 0.0006882801412779308,\n",
       " 'CLFE F CLFE N': 0.0006882801412779308,\n",
       " 'CLFE F CLFE C': 0.0006882801412779308,\n",
       " 'CLFE F CLFE F': 0.0006882801412779308,\n",
       " 'CLFE S SPRB S': 0.000681576113927821,\n",
       " 'CLFE S SPRB R': 0.000681576113927821,\n",
       " 'CLFE S SPRB N': 0.000681576113927821,\n",
       " 'CLFE S SPRB C': 0.000681576113927821,\n",
       " 'CLFE S SPRB F': 0.000681576113927821,\n",
       " 'CLFE R SPRB S': 0.000681576113927821,\n",
       " 'CLFE R SPRB R': 0.000681576113927821,\n",
       " 'CLFE R SPRB N': 0.000681576113927821,\n",
       " 'CLFE R SPRB C': 0.000681576113927821,\n",
       " 'CLFE R SPRB F': 0.000681576113927821,\n",
       " 'CLFE N SPRB S': 0.000681576113927821,\n",
       " 'CLFE N SPRB R': 0.000681576113927821,\n",
       " 'CLFE N SPRB N': 0.000681576113927821,\n",
       " 'CLFE N SPRB C': 0.000681576113927821,\n",
       " 'CLFE N SPRB F': 0.000681576113927821,\n",
       " 'CLFE C SPRB S': 0.000681576113927821,\n",
       " 'CLFE C SPRB R': 0.000681576113927821,\n",
       " 'CLFE C SPRB N': 0.000681576113927821,\n",
       " 'CLFE C SPRB C': 0.000681576113927821,\n",
       " 'CLFE C SPRB F': 0.000681576113927821,\n",
       " 'CLFE F SPRB S': 0.000681576113927821,\n",
       " 'CLFE F SPRB R': 0.000681576113927821,\n",
       " 'CLFE F SPRB N': 0.000681576113927821,\n",
       " 'CLFE F SPRB C': 0.000681576113927821,\n",
       " 'CLFE F SPRB F': 0.000681576113927821,\n",
       " 'CLFE S GRME S': 0.0006145358404267238,\n",
       " 'CLFE S GRME R': 0.0006145358404267238,\n",
       " 'CLFE S GRME N': 0.0006145358404267238,\n",
       " 'CLFE S GRME C': 0.0006145358404267238,\n",
       " 'CLFE S GRME F': 0.0006145358404267238,\n",
       " 'CLFE R GRME S': 0.0006145358404267238,\n",
       " 'CLFE R GRME R': 0.0006145358404267238,\n",
       " 'CLFE R GRME N': 0.0006145358404267238,\n",
       " 'CLFE R GRME C': 0.0006145358404267238,\n",
       " 'CLFE R GRME F': 0.0006145358404267238,\n",
       " 'CLFE N GRME S': 0.0006145358404267238,\n",
       " 'CLFE N GRME R': 0.0006145358404267238,\n",
       " 'CLFE N GRME N': 0.0006145358404267238,\n",
       " 'CLFE N GRME C': 0.0006145358404267238,\n",
       " 'CLFE N GRME F': 0.0006145358404267238,\n",
       " 'CLFE C GRME S': 0.0006145358404267238,\n",
       " 'CLFE C GRME R': 0.0006145358404267238,\n",
       " 'CLFE C GRME N': 0.0006145358404267238,\n",
       " 'CLFE C GRME C': 0.0006145358404267238,\n",
       " 'CLFE C GRME F': 0.0006145358404267238,\n",
       " 'CLFE F GRME S': 0.0006145358404267238,\n",
       " 'CLFE F GRME R': 0.0006145358404267238,\n",
       " 'CLFE F GRME N': 0.0006145358404267238,\n",
       " 'CLFE F GRME C': 0.0006145358404267238,\n",
       " 'CLFE F GRME F': 0.0006145358404267238,\n",
       " 'CLFE S CSFE S': 0.0005497302427089966,\n",
       " 'CLFE S CSFE R': 0.0005497302427089966,\n",
       " 'CLFE S CSFE N': 0.0005497302427089966,\n",
       " 'CLFE S CSFE C': 0.0005497302427089966,\n",
       " 'CLFE S CSFE F': 0.0005497302427089966,\n",
       " 'CLFE R CSFE S': 0.0005497302427089966,\n",
       " 'CLFE R CSFE R': 0.0005497302427089966,\n",
       " 'CLFE R CSFE N': 0.0005497302427089966,\n",
       " 'CLFE R CSFE C': 0.0005497302427089966,\n",
       " 'CLFE R CSFE F': 0.0005497302427089966,\n",
       " 'CLFE N CSFE S': 0.0005497302427089966,\n",
       " 'CLFE N CSFE R': 0.0005497302427089966,\n",
       " 'CLFE N CSFE N': 0.0005497302427089966,\n",
       " 'CLFE N CSFE C': 0.0005497302427089966,\n",
       " 'CLFE N CSFE F': 0.0005497302427089966,\n",
       " 'CLFE C CSFE S': 0.0005497302427089966,\n",
       " 'CLFE C CSFE R': 0.0005497302427089966,\n",
       " 'CLFE C CSFE N': 0.0005497302427089966,\n",
       " 'CLFE C CSFE C': 0.0005497302427089966,\n",
       " 'CLFE C CSFE F': 0.0005497302427089966,\n",
       " 'CLFE F CSFE S': 0.0005497302427089966,\n",
       " 'CLFE F CSFE R': 0.0005497302427089966,\n",
       " 'CLFE F CSFE N': 0.0005497302427089966,\n",
       " 'CLFE F CSFE C': 0.0005497302427089966,\n",
       " 'CLFE F CSFE F': 0.0005497302427089966,\n",
       " 'CLFE S LHME S': 0.0005363221880087772,\n",
       " 'CLFE S LHME R': 0.0005363221880087772,\n",
       " 'CLFE S LHME N': 0.0005363221880087772,\n",
       " 'CLFE S LHME C': 0.0005363221880087772,\n",
       " 'CLFE S LHME F': 0.0005363221880087772,\n",
       " 'CLFE R LHME S': 0.0005363221880087772,\n",
       " 'CLFE R LHME R': 0.0005363221880087772,\n",
       " 'CLFE R LHME N': 0.0005363221880087772,\n",
       " 'CLFE R LHME C': 0.0005363221880087772,\n",
       " 'CLFE R LHME F': 0.0005363221880087772,\n",
       " 'CLFE N LHME S': 0.0005363221880087772,\n",
       " 'CLFE N LHME R': 0.0005363221880087772,\n",
       " 'CLFE N LHME N': 0.0005363221880087772,\n",
       " 'CLFE N LHME C': 0.0005363221880087772,\n",
       " 'CLFE N LHME F': 0.0005363221880087772,\n",
       " 'CLFE C LHME S': 0.0005363221880087772,\n",
       " 'CLFE C LHME R': 0.0005363221880087772,\n",
       " 'CLFE C LHME N': 0.0005363221880087772,\n",
       " 'CLFE C LHME C': 0.0005363221880087772,\n",
       " 'CLFE C LHME F': 0.0005363221880087772,\n",
       " 'CLFE F LHME S': 0.0005363221880087772,\n",
       " 'CLFE F LHME R': 0.0005363221880087772,\n",
       " 'CLFE F LHME N': 0.0005363221880087772,\n",
       " 'CLFE F LHME C': 0.0005363221880087772,\n",
       " 'CLFE F LHME F': 0.0005363221880087772,\n",
       " 'CLFE S LNMC S': 0.00027263044557112844,\n",
       " 'CLFE S LNMC R': 0.00027263044557112844,\n",
       " 'CLFE S LNMC N': 0.00027263044557112844,\n",
       " 'CLFE S LNMC C': 0.00027263044557112844,\n",
       " 'CLFE S LNMC F': 0.00027263044557112844,\n",
       " 'CLFE R LNMC S': 0.00027263044557112844,\n",
       " 'CLFE R LNMC R': 0.00027263044557112844,\n",
       " 'CLFE R LNMC N': 0.00027263044557112844,\n",
       " 'CLFE R LNMC C': 0.00027263044557112844,\n",
       " 'CLFE R LNMC F': 0.00027263044557112844,\n",
       " 'CLFE N LNMC S': 0.00027263044557112844,\n",
       " 'CLFE N LNMC R': 0.00027263044557112844,\n",
       " 'CLFE N LNMC N': 0.00027263044557112844,\n",
       " 'CLFE N LNMC C': 0.00027263044557112844,\n",
       " 'CLFE N LNMC F': 0.00027263044557112844,\n",
       " 'CLFE C LNMC S': 0.00027263044557112844,\n",
       " 'CLFE C LNMC R': 0.00027263044557112844,\n",
       " 'CLFE C LNMC N': 0.00027263044557112844,\n",
       " 'CLFE C LNMC C': 0.00027263044557112844,\n",
       " 'CLFE C LNMC F': 0.00027263044557112844,\n",
       " 'CLFE F LNMC S': 0.00027263044557112844,\n",
       " 'CLFE F LNMC R': 0.00027263044557112844,\n",
       " 'CLFE F LNMC N': 0.00027263044557112844,\n",
       " 'CLFE F LNMC C': 0.00027263044557112844,\n",
       " 'CLFE F LNMC F': 0.00027263044557112844,\n",
       " 'CLFE S EOAR S': 0.00020559017207003128,\n",
       " 'CLFE S EOAR R': 0.00020559017207003128,\n",
       " 'CLFE S EOAR N': 0.00020559017207003128,\n",
       " 'CLFE S EOAR C': 0.00020559017207003128,\n",
       " 'CLFE S EOAR F': 0.00020559017207003128,\n",
       " 'CLFE R EOAR S': 0.00020559017207003128,\n",
       " 'CLFE R EOAR R': 0.00020559017207003128,\n",
       " 'CLFE R EOAR N': 0.00020559017207003128,\n",
       " 'CLFE R EOAR C': 0.00020559017207003128,\n",
       " 'CLFE R EOAR F': 0.00020559017207003128,\n",
       " 'CLFE N EOAR S': 0.00020559017207003128,\n",
       " 'CLFE N EOAR R': 0.00020559017207003128,\n",
       " 'CLFE N EOAR N': 0.00020559017207003128,\n",
       " 'CLFE N EOAR C': 0.00020559017207003128,\n",
       " 'CLFE N EOAR F': 0.00020559017207003128,\n",
       " 'CLFE C EOAR S': 0.00020559017207003128,\n",
       " 'CLFE C EOAR R': 0.00020559017207003128,\n",
       " 'CLFE C EOAR N': 0.00020559017207003128,\n",
       " 'CLFE C EOAR C': 0.00020559017207003128,\n",
       " 'CLFE C EOAR F': 0.00020559017207003128,\n",
       " 'CLFE F EOAR S': 0.00020559017207003128,\n",
       " 'CLFE F EOAR R': 0.00020559017207003128,\n",
       " 'CLFE F EOAR N': 0.00020559017207003128,\n",
       " 'CLFE F EOAR C': 0.00020559017207003128,\n",
       " 'CLFE F EOAR F': 0.00020559017207003128,\n",
       " 'CLFE S FAAR S': 0.0001810087384529623,\n",
       " 'CLFE S FAAR R': 0.0001810087384529623,\n",
       " 'CLFE S FAAR N': 0.0001810087384529623,\n",
       " 'CLFE S FAAR C': 0.0001810087384529623,\n",
       " 'CLFE S FAAR F': 0.0001810087384529623,\n",
       " 'CLFE R FAAR S': 0.0001810087384529623,\n",
       " 'CLFE R FAAR R': 0.0001810087384529623,\n",
       " 'CLFE R FAAR N': 0.0001810087384529623,\n",
       " 'CLFE R FAAR C': 0.0001810087384529623,\n",
       " 'CLFE R FAAR F': 0.0001810087384529623,\n",
       " 'CLFE N FAAR S': 0.0001810087384529623,\n",
       " 'CLFE N FAAR R': 0.0001810087384529623,\n",
       " 'CLFE N FAAR N': 0.0001810087384529623,\n",
       " 'CLFE N FAAR C': 0.0001810087384529623,\n",
       " 'CLFE N FAAR F': 0.0001810087384529623,\n",
       " 'CLFE C FAAR S': 0.0001810087384529623,\n",
       " 'CLFE C FAAR R': 0.0001810087384529623,\n",
       " 'CLFE C FAAR N': 0.0001810087384529623,\n",
       " 'CLFE C FAAR C': 0.0001810087384529623,\n",
       " 'CLFE C FAAR F': 0.0001810087384529623,\n",
       " 'CLFE F FAAR S': 0.0001810087384529623,\n",
       " 'CLFE F FAAR R': 0.0001810087384529623,\n",
       " 'CLFE F FAAR N': 0.0001810087384529623,\n",
       " 'CLFE F FAAR C': 0.0001810087384529623,\n",
       " 'CLFE F FAAR F': 0.0001810087384529623,\n",
       " 'CLFE S VBAL S': 0.00010949911338512533,\n",
       " 'CLFE S VBAL R': 0.00010949911338512533,\n",
       " 'CLFE S VBAL N': 0.00010949911338512533,\n",
       " 'CLFE S VBAL C': 0.00010949911338512533,\n",
       " 'CLFE S VBAL F': 0.00010949911338512533,\n",
       " 'CLFE R VBAL S': 0.00010949911338512533,\n",
       " 'CLFE R VBAL R': 0.00010949911338512533,\n",
       " 'CLFE R VBAL N': 0.00010949911338512533,\n",
       " 'CLFE R VBAL C': 0.00010949911338512533,\n",
       " 'CLFE R VBAL F': 0.00010949911338512533,\n",
       " 'CLFE N VBAL S': 0.00010949911338512533,\n",
       " 'CLFE N VBAL R': 0.00010949911338512533,\n",
       " 'CLFE N VBAL N': 0.00010949911338512533,\n",
       " 'CLFE N VBAL C': 0.00010949911338512533,\n",
       " 'CLFE N VBAL F': 0.00010949911338512533,\n",
       " 'CLFE C VBAL S': 0.00010949911338512533,\n",
       " 'CLFE C VBAL R': 0.00010949911338512533,\n",
       " 'CLFE C VBAL N': 0.00010949911338512533,\n",
       " 'CLFE C VBAL C': 0.00010949911338512533,\n",
       " 'CLFE C VBAL F': 0.00010949911338512533,\n",
       " 'CLFE F VBAL S': 0.00010949911338512533,\n",
       " 'CLFE F VBAL R': 0.00010949911338512533,\n",
       " 'CLFE F VBAL N': 0.00010949911338512533,\n",
       " 'CLFE F VBAL C': 0.00010949911338512533,\n",
       " 'CLFE F VBAL F': 0.00010949911338512533,\n",
       " 'CLFE S DRMC S': 8.268300398468649e-05,\n",
       " 'CLFE S DRMC R': 8.268300398468649e-05,\n",
       " 'CLFE S DRMC N': 8.268300398468649e-05,\n",
       " 'CLFE S DRMC C': 8.268300398468649e-05,\n",
       " 'CLFE S DRMC F': 8.268300398468649e-05,\n",
       " 'CLFE R DRMC S': 8.268300398468649e-05,\n",
       " 'CLFE R DRMC R': 8.268300398468649e-05,\n",
       " 'CLFE R DRMC N': 8.268300398468649e-05,\n",
       " 'CLFE R DRMC C': 8.268300398468649e-05,\n",
       " 'CLFE R DRMC F': 8.268300398468649e-05,\n",
       " 'CLFE N DRMC S': 8.268300398468649e-05,\n",
       " 'CLFE N DRMC R': 8.268300398468649e-05,\n",
       " 'CLFE N DRMC N': 8.268300398468649e-05,\n",
       " 'CLFE N DRMC C': 8.268300398468649e-05,\n",
       " 'CLFE N DRMC F': 8.268300398468649e-05,\n",
       " 'CLFE C DRMC S': 8.268300398468649e-05,\n",
       " 'CLFE C DRMC R': 8.268300398468649e-05,\n",
       " 'CLFE C DRMC N': 8.268300398468649e-05,\n",
       " 'CLFE C DRMC C': 8.268300398468649e-05,\n",
       " 'CLFE C DRMC F': 8.268300398468649e-05,\n",
       " 'CLFE F DRMC S': 8.268300398468649e-05,\n",
       " 'CLFE F DRMC R': 8.268300398468649e-05,\n",
       " 'CLFE F DRMC N': 8.268300398468649e-05,\n",
       " 'CLFE F DRMC C': 8.268300398468649e-05,\n",
       " 'CLFE F DRMC F': 8.268300398468649e-05,\n",
       " 'CLFE S SVAM S': 8.268300398468649e-05,\n",
       " 'CLFE S SVAM R': 8.268300398468649e-05,\n",
       " 'CLFE S SVAM N': 8.268300398468649e-05,\n",
       " 'CLFE S SVAM C': 8.268300398468649e-05,\n",
       " 'CLFE S SVAM F': 8.268300398468649e-05,\n",
       " 'CLFE R SVAM S': 8.268300398468649e-05,\n",
       " 'CLFE R SVAM R': 8.268300398468649e-05,\n",
       " 'CLFE R SVAM N': 8.268300398468649e-05,\n",
       " 'CLFE R SVAM C': 8.268300398468649e-05,\n",
       " 'CLFE R SVAM F': 8.268300398468649e-05,\n",
       " 'CLFE N SVAM S': 8.268300398468649e-05,\n",
       " 'CLFE N SVAM R': 8.268300398468649e-05,\n",
       " 'CLFE N SVAM N': 8.268300398468649e-05,\n",
       " 'CLFE N SVAM C': 8.268300398468649e-05,\n",
       " 'CLFE N SVAM F': 8.268300398468649e-05,\n",
       " 'CLFE C SVAM S': 8.268300398468649e-05,\n",
       " 'CLFE C SVAM R': 8.268300398468649e-05,\n",
       " 'CLFE C SVAM N': 8.268300398468649e-05,\n",
       " 'CLFE C SVAM C': 8.268300398468649e-05,\n",
       " 'CLFE C SVAM F': 8.268300398468649e-05,\n",
       " 'CLFE F SVAM S': 8.268300398468649e-05,\n",
       " 'CLFE F SVAM R': 8.268300398468649e-05,\n",
       " 'CLFE F SVAM N': 8.268300398468649e-05,\n",
       " 'CLFE F SVAM C': 8.268300398468649e-05,\n",
       " 'CLFE F SVAM F': 8.268300398468649e-05,\n",
       " 'CLFE S KMHF S': 5.5866894584247625e-05,\n",
       " 'CLFE S KMHF R': 5.5866894584247625e-05,\n",
       " 'CLFE S KMHF N': 5.5866894584247625e-05,\n",
       " 'CLFE S KMHF C': 5.5866894584247625e-05,\n",
       " 'CLFE S KMHF F': 5.5866894584247625e-05,\n",
       " 'CLFE R KMHF S': 5.5866894584247625e-05,\n",
       " 'CLFE R KMHF R': 5.5866894584247625e-05,\n",
       " 'CLFE R KMHF N': 5.5866894584247625e-05,\n",
       " 'CLFE R KMHF C': 5.5866894584247625e-05,\n",
       " 'CLFE R KMHF F': 5.5866894584247625e-05,\n",
       " 'CLFE N KMHF S': 5.5866894584247625e-05,\n",
       " 'CLFE N KMHF R': 5.5866894584247625e-05,\n",
       " 'CLFE N KMHF N': 5.5866894584247625e-05,\n",
       " 'CLFE N KMHF C': 5.5866894584247625e-05,\n",
       " 'CLFE N KMHF F': 5.5866894584247625e-05,\n",
       " 'CLFE C KMHF S': 5.5866894584247625e-05,\n",
       " 'CLFE C KMHF R': 5.5866894584247625e-05,\n",
       " 'CLFE C KMHF N': 5.5866894584247625e-05,\n",
       " 'CLFE C KMHF C': 5.5866894584247625e-05,\n",
       " 'CLFE C KMHF F': 5.5866894584247625e-05,\n",
       " 'CLFE F KMHF S': 5.5866894584247625e-05,\n",
       " 'CLFE F KMHF R': 5.5866894584247625e-05,\n",
       " 'CLFE F KMHF N': 5.5866894584247625e-05,\n",
       " 'CLFE F KMHF C': 5.5866894584247625e-05,\n",
       " 'CLFE F KMHF F': 5.5866894584247625e-05,\n",
       " 'CLFE S PGAT S': 5.139754301750782e-05,\n",
       " 'CLFE S PGAT R': 5.139754301750782e-05,\n",
       " 'CLFE S PGAT N': 5.139754301750782e-05,\n",
       " 'CLFE S PGAT C': 5.139754301750782e-05,\n",
       " 'CLFE S PGAT F': 5.139754301750782e-05,\n",
       " 'CLFE R PGAT S': 5.139754301750782e-05,\n",
       " 'CLFE R PGAT R': 5.139754301750782e-05,\n",
       " 'CLFE R PGAT N': 5.139754301750782e-05,\n",
       " 'CLFE R PGAT C': 5.139754301750782e-05,\n",
       " 'CLFE R PGAT F': 5.139754301750782e-05,\n",
       " 'CLFE N PGAT S': 5.139754301750782e-05,\n",
       " 'CLFE N PGAT R': 5.139754301750782e-05,\n",
       " 'CLFE N PGAT N': 5.139754301750782e-05,\n",
       " 'CLFE N PGAT C': 5.139754301750782e-05,\n",
       " 'CLFE N PGAT F': 5.139754301750782e-05,\n",
       " 'CLFE C PGAT S': 5.139754301750782e-05,\n",
       " 'CLFE C PGAT R': 5.139754301750782e-05,\n",
       " 'CLFE C PGAT N': 5.139754301750782e-05,\n",
       " 'CLFE C PGAT C': 5.139754301750782e-05,\n",
       " 'CLFE C PGAT F': 5.139754301750782e-05,\n",
       " 'CLFE F PGAT S': 5.139754301750782e-05,\n",
       " 'CLFE F PGAT R': 5.139754301750782e-05,\n",
       " 'CLFE F PGAT N': 5.139754301750782e-05,\n",
       " 'CLFE F PGAT C': 5.139754301750782e-05,\n",
       " 'CLFE F PGAT F': 5.139754301750782e-05,\n",
       " 'CLFE S LSAM S': 4.0224164100658294e-05,\n",
       " 'CLFE S LSAM R': 4.0224164100658294e-05,\n",
       " 'CLFE S LSAM N': 4.0224164100658294e-05,\n",
       " 'CLFE S LSAM C': 4.0224164100658294e-05,\n",
       " 'CLFE S LSAM F': 4.0224164100658294e-05,\n",
       " 'CLFE R LSAM S': 4.0224164100658294e-05,\n",
       " 'CLFE R LSAM R': 4.0224164100658294e-05,\n",
       " 'CLFE R LSAM N': 4.0224164100658294e-05,\n",
       " 'CLFE R LSAM C': 4.0224164100658294e-05,\n",
       " 'CLFE R LSAM F': 4.0224164100658294e-05,\n",
       " 'CLFE N LSAM S': 4.0224164100658294e-05,\n",
       " 'CLFE N LSAM R': 4.0224164100658294e-05,\n",
       " 'CLFE N LSAM N': 4.0224164100658294e-05,\n",
       " 'CLFE N LSAM C': 4.0224164100658294e-05,\n",
       " 'CLFE N LSAM F': 4.0224164100658294e-05,\n",
       " 'CLFE C LSAM S': 4.0224164100658294e-05,\n",
       " 'CLFE C LSAM R': 4.0224164100658294e-05,\n",
       " 'CLFE C LSAM N': 4.0224164100658294e-05,\n",
       " 'CLFE C LSAM C': 4.0224164100658294e-05,\n",
       " 'CLFE C LSAM F': 4.0224164100658294e-05,\n",
       " 'CLFE F LSAM S': 4.0224164100658294e-05,\n",
       " 'CLFE F LSAM R': 4.0224164100658294e-05,\n",
       " 'CLFE F LSAM N': 4.0224164100658294e-05,\n",
       " 'CLFE F LSAM C': 4.0224164100658294e-05,\n",
       " 'CLFE F LSAM F': 4.0224164100658294e-05,\n",
       " 'CLFE S MSHF S': 2.681610940043886e-05,\n",
       " 'CLFE S MSHF R': 2.681610940043886e-05,\n",
       " 'CLFE S MSHF N': 2.681610940043886e-05,\n",
       " 'CLFE S MSHF C': 2.681610940043886e-05,\n",
       " 'CLFE S MSHF F': 2.681610940043886e-05,\n",
       " 'CLFE R MSHF S': 2.681610940043886e-05,\n",
       " 'CLFE R MSHF R': 2.681610940043886e-05,\n",
       " 'CLFE R MSHF N': 2.681610940043886e-05,\n",
       " 'CLFE R MSHF C': 2.681610940043886e-05,\n",
       " 'CLFE R MSHF F': 2.681610940043886e-05,\n",
       " 'CLFE N MSHF S': 2.681610940043886e-05,\n",
       " 'CLFE N MSHF R': 2.681610940043886e-05,\n",
       " 'CLFE N MSHF N': 2.681610940043886e-05,\n",
       " 'CLFE N MSHF C': 2.681610940043886e-05,\n",
       " 'CLFE N MSHF F': 2.681610940043886e-05,\n",
       " 'CLFE C MSHF S': 2.681610940043886e-05,\n",
       " 'CLFE C MSHF R': 2.681610940043886e-05,\n",
       " 'CLFE C MSHF N': 2.681610940043886e-05,\n",
       " 'CLFE C MSHF C': 2.681610940043886e-05,\n",
       " 'CLFE C MSHF F': 2.681610940043886e-05,\n",
       " 'CLFE F MSHF S': 2.681610940043886e-05,\n",
       " 'CLFE F MSHF R': 2.681610940043886e-05,\n",
       " 'CLFE F MSHF N': 2.681610940043886e-05,\n",
       " 'CLFE F MSHF C': 2.681610940043886e-05,\n",
       " 'CLFE F MSHF F': 2.681610940043886e-05,\n",
       " 'CLFE S YTAT S': 2.681610940043886e-05,\n",
       " 'CLFE S YTAT R': 2.681610940043886e-05,\n",
       " 'CLFE S YTAT N': 2.681610940043886e-05,\n",
       " 'CLFE S YTAT C': 2.681610940043886e-05,\n",
       " 'CLFE S YTAT F': 2.681610940043886e-05,\n",
       " 'CLFE R YTAT S': 2.681610940043886e-05,\n",
       " 'CLFE R YTAT R': 2.681610940043886e-05,\n",
       " 'CLFE R YTAT N': 2.681610940043886e-05,\n",
       " 'CLFE R YTAT C': 2.681610940043886e-05,\n",
       " 'CLFE R YTAT F': 2.681610940043886e-05,\n",
       " 'CLFE N YTAT S': 2.681610940043886e-05,\n",
       " 'CLFE N YTAT R': 2.681610940043886e-05,\n",
       " 'CLFE N YTAT N': 2.681610940043886e-05,\n",
       " 'CLFE N YTAT C': 2.681610940043886e-05,\n",
       " 'CLFE N YTAT F': 2.681610940043886e-05,\n",
       " 'CLFE C YTAT S': 2.681610940043886e-05,\n",
       " 'CLFE C YTAT R': 2.681610940043886e-05,\n",
       " 'CLFE C YTAT N': 2.681610940043886e-05,\n",
       " 'CLFE C YTAT C': 2.681610940043886e-05,\n",
       " 'CLFE C YTAT F': 2.681610940043886e-05,\n",
       " 'CLFE F YTAT S': 2.681610940043886e-05,\n",
       " 'CLFE F YTAT R': 2.681610940043886e-05,\n",
       " 'CLFE F YTAT N': 2.681610940043886e-05,\n",
       " 'CLFE F YTAT C': 2.681610940043886e-05,\n",
       " 'CLFE F YTAT F': 2.681610940043886e-05,\n",
       " 'CLFE S ZGAL S': 1.340805470021943e-05,\n",
       " 'CLFE S ZGAL R': 1.340805470021943e-05,\n",
       " 'CLFE S ZGAL N': 1.340805470021943e-05,\n",
       " 'CLFE S ZGAL C': 1.340805470021943e-05,\n",
       " 'CLFE S ZGAL F': 1.340805470021943e-05,\n",
       " 'CLFE R ZGAL S': 1.340805470021943e-05,\n",
       " 'CLFE R ZGAL R': 1.340805470021943e-05,\n",
       " 'CLFE R ZGAL N': 1.340805470021943e-05,\n",
       " 'CLFE R ZGAL C': 1.340805470021943e-05,\n",
       " 'CLFE R ZGAL F': 1.340805470021943e-05,\n",
       " 'CLFE N ZGAL S': 1.340805470021943e-05,\n",
       " 'CLFE N ZGAL R': 1.340805470021943e-05,\n",
       " 'CLFE N ZGAL N': 1.340805470021943e-05,\n",
       " 'CLFE N ZGAL C': 1.340805470021943e-05,\n",
       " 'CLFE N ZGAL F': 1.340805470021943e-05,\n",
       " 'CLFE C ZGAL S': 1.340805470021943e-05,\n",
       " 'CLFE C ZGAL R': 1.340805470021943e-05,\n",
       " 'CLFE C ZGAL N': 1.340805470021943e-05,\n",
       " 'CLFE C ZGAL C': 1.340805470021943e-05,\n",
       " 'CLFE C ZGAL F': 1.340805470021943e-05,\n",
       " 'CLFE F ZGAL S': 1.340805470021943e-05,\n",
       " 'CLFE F ZGAL R': 1.340805470021943e-05,\n",
       " 'CLFE F ZGAL N': 1.340805470021943e-05,\n",
       " 'CLFE F ZGAL C': 1.340805470021943e-05,\n",
       " 'CLFE F ZGAL F': 1.340805470021943e-05,\n",
       " 'CLFE S AAWM S': 8.93870313347962e-06,\n",
       " 'CLFE S AAWM R': 8.93870313347962e-06,\n",
       " 'CLFE S AAWM N': 8.93870313347962e-06,\n",
       " 'CLFE S AAWM C': 8.93870313347962e-06,\n",
       " 'CLFE S AAWM F': 8.93870313347962e-06,\n",
       " 'CLFE R AAWM S': 8.93870313347962e-06,\n",
       " 'CLFE R AAWM R': 8.93870313347962e-06,\n",
       " 'CLFE R AAWM N': 8.93870313347962e-06,\n",
       " 'CLFE R AAWM C': 8.93870313347962e-06,\n",
       " 'CLFE R AAWM F': 8.93870313347962e-06,\n",
       " 'CLFE N AAWM S': 8.93870313347962e-06,\n",
       " 'CLFE N AAWM R': 8.93870313347962e-06,\n",
       " 'CLFE N AAWM N': 8.93870313347962e-06,\n",
       " 'CLFE N AAWM C': 8.93870313347962e-06,\n",
       " 'CLFE N AAWM F': 8.93870313347962e-06,\n",
       " 'CLFE C AAWM S': 8.93870313347962e-06,\n",
       " 'CLFE C AAWM R': 8.93870313347962e-06,\n",
       " 'CLFE C AAWM N': 8.93870313347962e-06,\n",
       " 'CLFE C AAWM C': 8.93870313347962e-06,\n",
       " 'CLFE C AAWM F': 8.93870313347962e-06,\n",
       " 'CLFE F AAWM S': 8.93870313347962e-06,\n",
       " 'CLFE F AAWM R': 8.93870313347962e-06,\n",
       " 'CLFE F AAWM N': 8.93870313347962e-06,\n",
       " 'CLFE F AAWM C': 8.93870313347962e-06,\n",
       " 'CLFE F AAWM F': 8.93870313347962e-06,\n",
       " 'CLFE S NLWM S': 4.46935156673981e-06,\n",
       " 'CLFE S NLWM R': 4.46935156673981e-06,\n",
       " 'CLFE S NLWM N': 4.46935156673981e-06,\n",
       " 'CLFE S NLWM C': 4.46935156673981e-06,\n",
       " 'CLFE S NLWM F': 4.46935156673981e-06,\n",
       " 'CLFE R NLWM S': 4.46935156673981e-06,\n",
       " 'CLFE R NLWM R': 4.46935156673981e-06,\n",
       " 'CLFE R NLWM N': 4.46935156673981e-06,\n",
       " 'CLFE R NLWM C': 4.46935156673981e-06,\n",
       " 'CLFE R NLWM F': 4.46935156673981e-06,\n",
       " 'CLFE N NLWM S': 4.46935156673981e-06,\n",
       " 'CLFE N NLWM R': 4.46935156673981e-06,\n",
       " 'CLFE N NLWM N': 4.46935156673981e-06,\n",
       " 'CLFE N NLWM C': 4.46935156673981e-06,\n",
       " 'CLFE N NLWM F': 4.46935156673981e-06,\n",
       " 'CLFE C NLWM S': 4.46935156673981e-06,\n",
       " 'CLFE C NLWM R': 4.46935156673981e-06,\n",
       " 'CLFE C NLWM N': 4.46935156673981e-06,\n",
       " 'CLFE C NLWM C': 4.46935156673981e-06,\n",
       " 'CLFE C NLWM F': 4.46935156673981e-06,\n",
       " 'CLFE F NLWM S': 4.46935156673981e-06,\n",
       " 'CLFE F NLWM R': 4.46935156673981e-06,\n",
       " 'CLFE F NLWM N': 4.46935156673981e-06,\n",
       " 'CLFE F NLWM C': 4.46935156673981e-06,\n",
       " 'CLFE F NLWM F': 4.46935156673981e-06,\n",
       " ...}"
      ]
     },
     "execution_count": 54,
     "metadata": {},
     "output_type": "execute_result"
    }
   ],
   "source": [
    "def Weather_Joint(A, B, C, D, sep=''):\n",
    "    \"\"\"The joint distribution of two independent probability distributions. \n",
    "    Result is all entries of the form {a+sep+b: P(a)*P(b)}\"\"\"\n",
    "    return ProbDist({a + sep + c + sep + b + sep + d: A[a] * B[b] *C[c] *D[d]\n",
    "                        for a in A\n",
    "                        for b in B\n",
    "                        for c in C\n",
    "                        for d in D})\n",
    "\n",
    "Double_Win_Weather = Weather_Joint(QTGPT,USGPT,weather,weather,' ')\n",
    "Double_Win_Weather"
   ]
  },
  {
   "cell_type": "code",
   "execution_count": 55,
   "metadata": {},
   "outputs": [],
   "source": [
    "def RB_Win_Rain_Once(outcome):  \n",
    "   return ((outcome[2] == 'R' and outcome[3] == 'B') or (outcome[9] == 'R' and outcome[10] == 'B')) and (outcome[5] == 'R' or outcome[12] == 'R')\n",
    "\n",
    "Red_Bull_Rainy_Once_Dist = such_that(RB_Win_Rain_Once,Double_Win_Weather)\n",
    "#Red_Bull_Rainy_Once_Dist"
   ]
  },
  {
   "cell_type": "code",
   "execution_count": 56,
   "metadata": {},
   "outputs": [],
   "source": [
    "def RedBull_Win_Both_Weather(outcome):  \n",
    "    return (outcome[2] == 'R' and outcome[3] == 'B') and (outcome[9] == 'R' and outcome[10] == 'B')\n",
    "\n",
    "Red_Bull_Double_Win_Weather_Dist = such_that(RedBull_Win_Both_Weather , Double_Win_Weather)"
   ]
  },
  {
   "cell_type": "code",
   "execution_count": 57,
   "metadata": {},
   "outputs": [
    {
     "data": {
      "text/plain": [
       "0.19278638557277109"
      ]
     },
     "execution_count": 57,
     "metadata": {},
     "output_type": "execute_result"
    }
   ],
   "source": [
    "PFor_Red_Bull_Win_Both_Weather = p(Red_Bull_Double_Win_Weather_Dist , Red_Bull_Rainy_Once_Dist)\n",
    "PFor_Red_Bull_Win_Both_Weather"
   ]
  },
  {
   "cell_type": "markdown",
   "metadata": {},
   "source": [
    "## Q4\n",
    "Max Verstappen is committed by contract with Red Bull to going to one designer's fashion show, and one only, at the SPRING 2024 READY-TO-WEAR FASHION SHOW where all the designers are listed [here](https://www.vogue.com/fashion-shows). If you commit to going to one and just one designer's fashion show as well, what is the probability you will meet Max? All F1 drivers for the current season are listed on the F1 web site and each one of these drivers has also committed to going to their sole favorite designer's show at the SPRING 2024 READY-TO-WEAR FASHION SHOW, what is the probability you will meet a F1 driver if you also go to one and only one of these shows?"
   ]
  },
  {
   "cell_type": "markdown",
   "metadata": {},
   "source": [
    "## a) Max Verstappen is committed by contract with Red Bull to going to one designer's fashion show, and one only, at the SPRING 2024 READY-TO-WEAR FASHION SHOW where all the designers are listed here. If you commit to going to one and just one designer's fashion show as well, what is the probability you will meet Max?"
   ]
  },
  {
   "cell_type": "markdown",
   "metadata": {},
   "source": [
    "If you meet Max, it appeas that we chose the same designer.I assume there was 5 designer."
   ]
  },
  {
   "cell_type": "code",
   "execution_count": 158,
   "metadata": {},
   "outputs": [],
   "source": [
    "MV = ProbDist(MIU = 1, CHA = 1, MAI = 1, ROK = 1, SAC = 1)\n",
    "ME = ProbDist(MIU = 1, CHA = 1, MAI = 1, ROK = 1, SAC = 1)"
   ]
  },
  {
   "cell_type": "code",
   "execution_count": 159,
   "metadata": {},
   "outputs": [],
   "source": [
    "Q4P1 = joint(MV, ME, ' ')\n",
    "##Q4P1"
   ]
  },
  {
   "cell_type": "code",
   "execution_count": 160,
   "metadata": {},
   "outputs": [
    {
     "data": {
      "text/plain": [
       "0.1999999999999999"
      ]
     },
     "execution_count": 160,
     "metadata": {},
     "output_type": "execute_result"
    }
   ],
   "source": [
    "def meet(outcome): return outcome[0] == outcome[4] and outcome[1] == outcome[5] and outcome[2] == outcome[6]\n",
    "\n",
    "p(meet, Q4P1)"
   ]
  },
  {
   "cell_type": "markdown",
   "metadata": {},
   "source": [
    "## b) All F1 drivers for the current season are listed on the F1 web site and each one of these drivers has also committed to going to their sole favorite designer's show at the SPRING 2024 READY-TO-WEAR FASHION SHOW, what is the probability you will meet a F1 driver if you also go to one and only one of these shows?"
   ]
  },
  {
   "cell_type": "code",
   "execution_count": 147,
   "metadata": {},
   "outputs": [],
   "source": [
    "CL = ProbDist(MIUMIU = 1, CHA = 1, MAI = 1, ROK = 1, SAC = 1)\n",
    "SP = ProbDist(MIUMIU = 1, CHA = 1, MAI = 1, ROK = 1, SAC = 1)"
   ]
  },
  {
   "cell_type": "code",
   "execution_count": 148,
   "metadata": {},
   "outputs": [],
   "source": [
    "def Q4P2_joint(A, B, C, D, sep=''):\n",
    "    \"\"\"The joint distribution of two independent probability distributions. \n",
    "    Result is all entries of the form {a+sep+b: P(a)*P(b)}\"\"\"\n",
    "    return ProbDist({a + sep + b + sep + c + sep + d: A[a] * B[b] * C[c] * D[d]\n",
    "                        for a in A\n",
    "                        for b in B\n",
    "                        for c in C\n",
    "                        for d in D})"
   ]
  },
  {
   "cell_type": "code",
   "execution_count": 149,
   "metadata": {},
   "outputs": [],
   "source": [
    "Q4P2 = Q4P2_joint(MV, CL, SP, ME, ' ')\n",
    "##Q4P2"
   ]
  },
  {
   "cell_type": "code",
   "execution_count": 140,
   "metadata": {},
   "outputs": [
    {
     "data": {
      "text/plain": [
       "0.1103999999999986"
      ]
     },
     "execution_count": 140,
     "metadata": {},
     "output_type": "execute_result"
    }
   ],
   "source": [
    "def meet2(outcome): \n",
    "    return (outcome[0] == outcome[12] and outcome[1] == outcome[13] and outcome[2] == outcome[14]) or (outcome[4] == outcome[12] and outcome[5] == outcome[13] and outcome[6] == outcome[14]) or (outcome[8] == outcome[12] and outcome[9] == outcome[13] and outcome[10] == outcome[14])\n",
    "\n",
    "p(meet2, Q4P2)"
   ]
  },
  {
   "cell_type": "code",
   "execution_count": 141,
   "metadata": {},
   "outputs": [],
   "source": [
    "def onlyone_joint(A, B, C, sep=''):\n",
    "    \"\"\"The joint distribution of two independent probability distributions. \n",
    "    Result is all entries of the form {a+sep+b: P(a)*P(b)}\"\"\"\n",
    "    return ProbDist({a + sep + b + sep + c: A[a] * B[b] * C[c]\n",
    "                        for a in A\n",
    "                        for b in B\n",
    "                        for c in C})"
   ]
  },
  {
   "cell_type": "code",
   "execution_count": 142,
   "metadata": {},
   "outputs": [],
   "source": [
    "onlyone = onlyone_joint(MV, CL, ME, ' ')\n",
    "##Q4P2_onlyone"
   ]
  },
  {
   "cell_type": "markdown",
   "metadata": {},
   "source": [
    "((outcome[0] == outcome[8] and outcome[1] == outcome[9] and outcome[2] == outcome[10]) and (outcome[4] != outcome[8] or outcome[5] != outcome[9] or outcome[6] != outcome[10])) is the result I meet MV and I don't meet CL\n",
    "\n",
    "((outcome[0] != outcome[8] or outcome[1] != outcome[9] or outcome[2] != outcome[10]) and (outcome[4] == outcome[8] and outcome[5] == outcome[9] and outcome[6] == outcome[10])) is the result I meet CL and I don't meet MV"
   ]
  },
  {
   "cell_type": "code",
   "execution_count": 150,
   "metadata": {},
   "outputs": [
    {
     "data": {
      "text/plain": [
       "0.48799999999999616"
      ]
     },
     "execution_count": 150,
     "metadata": {},
     "output_type": "execute_result"
    }
   ],
   "source": [
    "def meet2(outcome): \n",
    "    return (outcome[0] == outcome[12] and outcome[1] == outcome[13] and outcome[2] == outcome[14]) or (outcome[4] == outcome[12] and outcome[5] == outcome[13] and outcome[6] == outcome[14]) or (outcome[8] == outcome[12] and outcome[9] == outcome[13] and outcome[10] == outcome[14])\n",
    "\n",
    "p(meet2, Q4P2)"
   ]
  },
  {
   "cell_type": "code",
   "execution_count": 151,
   "metadata": {},
   "outputs": [],
   "source": [
    "def Q4P2_onlyone_joint(A, B, C, sep=''):\n",
    "    \"\"\"The joint distribution of two independent probability distributions. \n",
    "    Result is all entries of the form {a+sep+b: P(a)*P(b)}\"\"\"\n",
    "    return ProbDist({a + sep + b + sep + c: A[a] * B[b] * C[c]\n",
    "                        for a in A\n",
    "                        for b in B\n",
    "                        for c in C})"
   ]
  },
  {
   "cell_type": "code",
   "execution_count": 152,
   "metadata": {},
   "outputs": [],
   "source": [
    "Q4P2_onlyone = Q4P2_onlyone_joint(MV, CL, ME, ' ')\n",
    "##Q4P2_onlyone"
   ]
  },
  {
   "cell_type": "markdown",
   "metadata": {},
   "source": [
    "((outcome[0] == outcome[8] and outcome[1] == outcome[9] and outcome[2] == outcome[10]) and (outcome[4] != outcome[8] or outcome[5] != outcome[9] or outcome[6] != outcome[10])) is the result I meet MV and I don't meet CL\n",
    "\n",
    "((outcome[0] != outcome[8] or outcome[1] != outcome[9] or outcome[2] != outcome[10]) and (outcome[4] == outcome[8] and outcome[5] == outcome[9] and outcome[6] == outcome[10])) is the result I meet CL and I don't meet MV"
   ]
  },
  {
   "cell_type": "code",
   "execution_count": 154,
   "metadata": {},
   "outputs": [
    {
     "data": {
      "text/plain": [
       "0.32000000000000006"
      ]
     },
     "execution_count": 154,
     "metadata": {},
     "output_type": "execute_result"
    }
   ],
   "source": [
    "def meet3(outcome): \n",
    "    return ((outcome[0] == outcome[8] and outcome[1] == outcome[9] and outcome[2] == outcome[10]) and (outcome[4] != outcome[8] or outcome[5] != outcome[9] or outcome[6] != outcome[10])) or ((outcome[0] != outcome[8] or outcome[1] != outcome[9] or outcome[2] != outcome[10]) and (outcome[4] == outcome[8] and outcome[5] == outcome[9] and outcome[6] == outcome[10]))\n",
    "\n",
    "p(meet3, Q4P2_onlyone)"
   ]
  }
 ],
 "metadata": {
  "kernelspec": {
   "display_name": "Python 3",
   "language": "python",
   "name": "python3"
  },
  "language_info": {
   "codemirror_mode": {
    "name": "ipython",
    "version": 3
   },
   "file_extension": ".py",
   "mimetype": "text/x-python",
   "name": "python",
   "nbconvert_exporter": "python",
   "pygments_lexer": "ipython3",
   "version": "3.8.3"
  }
 },
 "nbformat": 4,
 "nbformat_minor": 4
}
